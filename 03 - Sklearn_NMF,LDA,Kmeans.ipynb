{
 "cells": [
  {
   "cell_type": "code",
   "execution_count": 1,
   "metadata": {
    "collapsed": false
   },
   "outputs": [],
   "source": [
    "import requests\n",
    "import scipy.io\n",
    "import matplotlib.pyplot as plt\n",
    "import matplotlib \n",
    "import pandas as pd\n",
    "import numpy as np\n",
    "import pickle\n",
    "import string\n",
    "import re\n",
    "\n",
    "from __future__ import print_function\n",
    "import nltk\n",
    "import os\n",
    "\n",
    "%matplotlib inline"
   ]
  },
  {
   "cell_type": "markdown",
   "metadata": {},
   "source": [
    "Import dataframe of games:"
   ]
  },
  {
   "cell_type": "code",
   "execution_count": 2,
   "metadata": {
    "collapsed": false
   },
   "outputs": [],
   "source": [
    "pkl_filename_master = \"df_games.pkl\"\n",
    "with open(pkl_filename_master, 'rb') as picklefile: \n",
    "    df_games = pickle.load(picklefile)\n",
    "    \n",
    "    \n",
    "pkl_filename_master = \"stop_words.pkl\"\n",
    "with open(pkl_filename_master, 'rb') as picklefile: \n",
    "    stop_words= pickle.load(picklefile)"
   ]
  },
  {
   "cell_type": "markdown",
   "metadata": {},
   "source": [
    "Define functions that will be used in this notebook:"
   ]
  },
  {
   "cell_type": "code",
   "execution_count": 100,
   "metadata": {
    "collapsed": false
   },
   "outputs": [],
   "source": [
    "# Setup nltk corpora path\n",
    "nltk_path = os.sep.join([os.environ['HOME'], 'nltk_data'])\n",
    "nltk.data.path.insert(0, nltk_path)\n",
    "\n",
    "from nltk.tokenize import word_tokenize\n",
    "from nltk.corpus import stopwords, wordnet\n",
    "from nltk.tokenize import word_tokenize\n",
    "from nltk.stem.wordnet import WordNetLemmatizer\n",
    "\n",
    "\n",
    "from nltk.stem.snowball import SnowballStemmer\n",
    "stemmer = SnowballStemmer(\"english\")\n",
    "\n",
    "def tokenize_and_stem(text):\n",
    "    \n",
    "    # first tokenize by sentence, then by word to ensure that punctuation is caught as it's own token\n",
    "    tokens = [word for sent in nltk.sent_tokenize(str(text)) for word in nltk.word_tokenize(sent)]\n",
    "    filtered_tokens = []\n",
    "    \n",
    "    # filter out any tokens not containing letters (e.g., numeric tokens, raw punctuation)\n",
    "    for token in tokens:\n",
    "        if re.search('[a-zA-Z]', token):\n",
    "            filtered_tokens.append(str(token))\n",
    "    stems = [str(stemmer.stem(t)) for t in filtered_tokens]\n",
    "    return stems\n",
    "\n",
    "\n",
    "def get_wordnet_pos(treebank_tag):\n",
    "    \"\"\"Convert the part-of-speech naming scheme\n",
    "       from the nltk default to that which is\n",
    "       recognized by the WordNet lemmatizer\"\"\"\n",
    "\n",
    "    if treebank_tag.startswith('J'):\n",
    "        return wordnet.ADJ\n",
    "    elif treebank_tag.startswith('V'):\n",
    "        return wordnet.VERB\n",
    "    elif treebank_tag.startswith('N'):\n",
    "        return wordnet.NOUN\n",
    "    elif treebank_tag.startswith('R'):\n",
    "        return wordnet.ADV\n",
    "    else:\n",
    "        return wordnet.NOUN\n",
    "\n",
    "    \n",
    "def preprocess_series_text(data, nltk_path=nltk_path):\n",
    "    \"\"\"Perform complete preprocessing on a Pandas series\n",
    "       including removal of alpha numerical words, normalization,\n",
    "       punctuation removal, tokenization, stop word removal, \n",
    "       and lemmatization.\"\"\"\n",
    "    \n",
    "    # remove alpha numerical words and make lowercase\n",
    "    alphanum_re = re.compile(r\"\"\"\\w*\\d\\w*\"\"\")\n",
    "    alphanum_lambda = lambda x: alphanum_re.sub('', x.strip().lower())\n",
    "\n",
    "    data = data.map(alphanum_lambda)\n",
    "\n",
    "    # remove punctuation\n",
    "    punc_re = re.compile('[%s]' % re.escape(string.punctuation))\n",
    "    punc_lambda = lambda x: punc_re.sub(' ', x)\n",
    "\n",
    "    data = data.map(punc_lambda)\n",
    "\n",
    "    # tokenize words\n",
    "    data = data.map(word_tokenize)\n",
    "\n",
    "    # remove stop words\n",
    "    sw = stop_words\n",
    "    #sw = stopwords.words('english')\n",
    "    sw_lambda = lambda x: list(filter(lambda y: y not in sw, x))\n",
    "\n",
    "    data = data.map(sw_lambda)\n",
    "\n",
    "    # part of speech tagging--must convert to format used by lemmatizer\n",
    "    data = data.map(nltk.pos_tag)\n",
    "    pos_lambda = lambda x: [(y[0], get_wordnet_pos(y[1])) for y in x]\n",
    "    data = data.map(pos_lambda)\n",
    "\n",
    "    # lemmatization\n",
    "    lemmatizer = WordNetLemmatizer()\n",
    "    lem_lambda = lambda x: [lemmatizer.lemmatize(*y) for y in x]\n",
    "    data = data.map(lem_lambda)\n",
    "    \n",
    "    \n",
    "    return data\n",
    "\n",
    "def bigram_gen(data):\n",
    "    joined_bigrams = []\n",
    "    for pair in list(nltk.bigrams(data)):\n",
    "        joined_bigrams.append(' '.join(pair))\n",
    "    return data+joined_bigrams\n",
    "\n",
    "from gensim import corpora\n",
    "def make_corpus(df, token_column_name, filter_above, filter_below):\n",
    "    dictionary = corpora.Dictionary(df[token_column_name])\n",
    "    dictionary.filter_extremes(filter_below, filter_above)\n",
    "    corpus = [dictionary.doc2bow(text) for text in df[token_column_name]]\n",
    "    print('Number of unique tokens: %d' % len(dictionary))\n",
    "    print('Number of documents: %d' % len(corpus))\n",
    "    return dictionary, corpus\n",
    "\n",
    "def get_doc_topic(corpus, model): \n",
    "    doc_topic = list() \n",
    "    for doc in corpus: \n",
    "        doc_topic.append(model.__getitem__(doc, eps=0)) \n",
    "    return doc_topic \n",
    "\n",
    "def get_topic_to_wordids(model): \n",
    "        p = list() \n",
    "        for topicid in range(model.num_topics): \n",
    "            topic = model.state.get_lambda()[topicid] \n",
    "            topic = topic / topic.sum() # normalize to probability dist \n",
    "            p.append(topic) \n",
    "        return p \n",
    "\n",
    "\n",
    "def get_game_in_groups(corpus, model, num_topics, df):\n",
    "    group_prediction = get_doc_topic(corpus, model)\n",
    "    keep = [[x[1] for x in document] for document in group_prediction] \n",
    "    column_list = ['topic '+ str(num) for num in range(num_topics)]\n",
    "    df_group = pd.DataFrame([[x[1] for x in document] for document in group_prediction],columns=column_list)\n",
    "    df_group['max_group'] = df_group.idxmax(axis =1)\n",
    "    df_group['index1'] = df_group.index\n",
    "    df['index1'] = df.index\n",
    "    df_groups_names = pd.merge(df, df_group, on='index1')\n",
    "    df_groups_predicted = df_groups_names.groupby('max_group')\n",
    "    df_check = df_groups_predicted.aggregate(lambda x: tuple(x))\n",
    "    df_check = df_check.reset_index()\n",
    "    df_check = df_check[['max_group','name','index1']]\n",
    "    games_categories = df_check['name']\n",
    "    for groups in games_categories:\n",
    "        print(groups) \n",
    "        print('\\n')\n",
    "        \n",
    "    return df_groups_predicted, df_check\n",
    "\n",
    "def print_top_words(model, feature_names, n_top_words):\n",
    "    for topic_idx, topic in enumerate(model.components_):\n",
    "        message = \"Topic #%d: \" % topic_idx\n",
    "        message += \", \".join([feature_names[i]\n",
    "                             for i in topic.argsort()[:-n_top_words - 1:-1]])\n",
    "        print(message)\n",
    "    print()\n",
    "\n",
    "def display_topics_and_titles(matrix, vectorizer, model, no_top_words, title_df_column):\n",
    "    titles = title_df_column.tolist()\n",
    "    feature_names = vectorizer.get_feature_names()\n",
    "    W = model.transform(matrix)\n",
    "    H = model.components_\n",
    "    Topic_df = pd.DataFrame()\n",
    "    \n",
    "    for topic_idx, topic in enumerate(H):\n",
    "        print(\"Topic %d:\" % (topic_idx))\n",
    "        topics = ( \", \".join([feature_names[i]\n",
    "                        for i in topic.argsort()[:-no_top_words - 1:-1]]))\n",
    "        print(topics)\n",
    "        topic_features = topics.split(', ')\n",
    "        Topic_df[\"Topic %d:\" % (topic_idx)] = topic_features\n",
    "        \n",
    "        top_doc_indices = np.argsort( W[:,topic_idx] )[::-1][0:no_top_words]\n",
    "        #print(top_doc_indices)\n",
    "        title_list = []\n",
    "        for doc_index in top_doc_indices:\n",
    "            title_list.append(titles[doc_index])  \n",
    "        print(title_list)  \n",
    "        Topic_df[\"Games, Topic %d:\" % (topic_idx)] = title_list\n",
    "    \n",
    "    return Topic_df\n",
    "\n",
    "no_top_words = 30"
   ]
  },
  {
   "cell_type": "code",
   "execution_count": 4,
   "metadata": {
    "collapsed": true
   },
   "outputs": [],
   "source": [
    "test_df = df_games.copy().drop([ u'id', u'year_released', u'geek_rating', u'average_rating', \n",
    "       u'nrate', u'pic_url', u'url', u'index1', u'min_players', u'max_players', \n",
    "     u'category', u'attributes'], axis =1)"
   ]
  },
  {
   "cell_type": "code",
   "execution_count": 5,
   "metadata": {
    "collapsed": true
   },
   "outputs": [],
   "source": [
    "test_df['tokens'] = preprocess_series_text(test_df['description'])"
   ]
  },
  {
   "cell_type": "code",
   "execution_count": 6,
   "metadata": {
    "collapsed": true
   },
   "outputs": [],
   "source": [
    "test_df['tokens_w_bigrams'] = test_df.apply(lambda row: bigram_gen(row['tokens']), axis = 1)"
   ]
  },
  {
   "cell_type": "code",
   "execution_count": 7,
   "metadata": {
    "collapsed": false
   },
   "outputs": [
    {
     "data": {
      "text/html": [
       "<div>\n",
       "<table border=\"1\" class=\"dataframe\">\n",
       "  <thead>\n",
       "    <tr style=\"text-align: right;\">\n",
       "      <th></th>\n",
       "      <th>name</th>\n",
       "      <th>description</th>\n",
       "      <th>tokens</th>\n",
       "      <th>tokens_w_bigrams</th>\n",
       "    </tr>\n",
       "  </thead>\n",
       "  <tbody>\n",
       "    <tr>\n",
       "      <th>0</th>\n",
       "      <td>Catan</td>\n",
       "      <td>In Catan (formerly The Settlers of Catan), pla...</td>\n",
       "      <td>[formerly, settler, dominant, force, island, b...</td>\n",
       "      <td>[formerly, settler, dominant, force, island, b...</td>\n",
       "    </tr>\n",
       "  </tbody>\n",
       "</table>\n",
       "</div>"
      ],
      "text/plain": [
       "    name                                        description  \\\n",
       "0  Catan  In Catan (formerly The Settlers of Catan), pla...   \n",
       "\n",
       "                                              tokens  \\\n",
       "0  [formerly, settler, dominant, force, island, b...   \n",
       "\n",
       "                                    tokens_w_bigrams  \n",
       "0  [formerly, settler, dominant, force, island, b...  "
      ]
     },
     "execution_count": 7,
     "metadata": {},
     "output_type": "execute_result"
    }
   ],
   "source": [
    "test_df.head(1)"
   ]
  },
  {
   "cell_type": "markdown",
   "metadata": {},
   "source": [
    "Now prep the text for analysis by making matrices with count vectorizer and tf_idf vectorizer:"
   ]
  },
  {
   "cell_type": "code",
   "execution_count": 34,
   "metadata": {
    "collapsed": false
   },
   "outputs": [],
   "source": [
    "def make_corpus(document_tokens_list):\n",
    "    corpus_orig = []\n",
    "    for i in document_tokens_list:\n",
    "        remove_unicode = str(i)\n",
    "        corpus_orig.append(remove_unicode)\n",
    "    \n",
    "    return corpus_orig\n",
    "        \n",
    "corpus_orig = make_corpus(list(test_df['tokens']))\n",
    "corpus_orig_2 = make_corpus(list(test_df['tokens_w_bigrams']))"
   ]
  },
  {
   "cell_type": "markdown",
   "metadata": {},
   "source": [
    "You can see the additional word combinations in the tokens with bigrams. I'd like to see how much including bigrams will change the topics:"
   ]
  },
  {
   "cell_type": "code",
   "execution_count": 50,
   "metadata": {
    "collapsed": false
   },
   "outputs": [
    {
     "name": "stdout",
     "output_type": "stream",
     "text": [
      "[u'tile', u'placement', u'draw', u'place', u'tile', u'piece', u'southern', u'french', u'landscape', u'tile', u'might', u'feature', u'city', u'road', u'cloister', u'grassland', u'combination', u'thereof', u'place', u'adjacent', u'tile', u'already', u'play', u'way', u'city', u'connect', u'city', u'road', u'road', u'etcetera', u'place', u'tile', u'decide', u'place', u'meeples', u'area', u'city', u'knight', u'road', u'robber', u'cloister', u'monk', u'grass', u'farmer', u'area', u'complete', u'meeple', u'owner', u'face', u'decision', u'like', u'really', u'worth', u'put', u'last', u'meeple', u'tile', u'expand', u'city', u'place', u'near', u'opponent', u'instead', u'give', u'hard', u'complete', u'project', u'since', u'place', u'tile', u'option', u'place', u'meeple', u'turn', u'proceed', u'quickly', u'even', u'full', u'option', u'possibility'] 847\n",
      "[u'tile', u'placement', u'draw', u'place', u'tile', u'piece', u'southern', u'french', u'landscape', u'tile', u'might', u'feature', u'city', u'road', u'cloister', u'grassland', u'combination', u'thereof', u'place', u'adjacent', u'tile', u'already', u'play', u'way', u'city', u'connect', u'city', u'road', u'road', u'etcetera', u'place', u'tile', u'decide', u'place', u'meeples', u'area', u'city', u'knight', u'road', u'robber', u'cloister', u'monk', u'grass', u'farmer', u'area', u'complete', u'meeple', u'owner', u'face', u'decision', u'like', u'really', u'worth', u'put', u'last', u'meeple', u'tile', u'expand', u'city', u'place', u'near', u'opponent', u'instead', u'give', u'hard', u'complete', u'project', u'since', u'place', u'tile', u'option', u'place', u'meeple', u'turn', u'proceed', u'quickly', u'even', u'full', u'option', u'possibility', u'tile placement', u'placement draw', u'draw place', u'place tile', u'tile piece', u'piece southern', u'southern french', u'french landscape', u'landscape tile', u'tile might', u'might feature', u'feature city', u'city road', u'road cloister', u'cloister grassland', u'grassland combination', u'combination thereof', u'thereof place', u'place adjacent', u'adjacent tile', u'tile already', u'already play', u'play way', u'way city', u'city connect', u'connect city', u'city road', u'road road', u'road etcetera', u'etcetera place', u'place tile', u'tile decide', u'decide place', u'place meeples', u'meeples area', u'area city', u'city knight', u'knight road', u'road robber', u'robber cloister', u'cloister monk', u'monk grass', u'grass farmer', u'farmer area', u'area complete', u'complete meeple', u'meeple owner', u'owner face', u'face decision', u'decision like', u'like really', u'really worth', u'worth put', u'put last', u'last meeple', u'meeple tile', u'tile expand', u'expand city', u'city place', u'place near', u'near opponent', u'opponent instead', u'instead give', u'give hard', u'hard complete', u'complete project', u'project since', u'since place', u'place tile', u'tile option', u'option place', u'place meeple', u'meeple turn', u'turn proceed', u'proceed quickly', u'quickly even', u'even full', u'full option', u'option possibility'] 2200\n"
     ]
    }
   ],
   "source": [
    "print(corpus_orig[1], len(corpus_orig[1]))\n",
    "print(corpus_orig_2[1], len(corpus_orig_2[1]))"
   ]
  },
  {
   "cell_type": "code",
   "execution_count": 43,
   "metadata": {
    "collapsed": false
   },
   "outputs": [],
   "source": [
    "from sklearn.feature_extraction.text import CountVectorizer\n",
    "\n",
    "cv = CountVectorizer(max_df=0.8, min_df=10)\n",
    "\n",
    "X_cv = cv.fit_transform(corpus_orig)\n",
    "X_cv = X_cv.toarray()"
   ]
  },
  {
   "cell_type": "code",
   "execution_count": 46,
   "metadata": {
    "collapsed": false
   },
   "outputs": [
    {
     "name": "stdout",
     "output_type": "stream",
     "text": [
      "(1600, 2110)\n"
     ]
    },
    {
     "data": {
      "text/html": [
       "<div>\n",
       "<table border=\"1\" class=\"dataframe\">\n",
       "  <thead>\n",
       "    <tr style=\"text-align: right;\">\n",
       "      <th></th>\n",
       "      <th>abandon</th>\n",
       "      <th>ability</th>\n",
       "      <th>able</th>\n",
       "      <th>abstract</th>\n",
       "      <th>accept</th>\n",
       "      <th>access</th>\n",
       "      <th>acclaim</th>\n",
       "      <th>accommodate</th>\n",
       "      <th>accomplish</th>\n",
       "      <th>accord</th>\n",
       "      <th>...</th>\n",
       "      <th>year</th>\n",
       "      <th>yellow</th>\n",
       "      <th>yes</th>\n",
       "      <th>yet</th>\n",
       "      <th>yield</th>\n",
       "      <th>york</th>\n",
       "      <th>young</th>\n",
       "      <th>zero</th>\n",
       "      <th>zombie</th>\n",
       "      <th>zone</th>\n",
       "    </tr>\n",
       "  </thead>\n",
       "  <tbody>\n",
       "    <tr>\n",
       "      <th>0</th>\n",
       "      <td>0</td>\n",
       "      <td>1</td>\n",
       "      <td>0</td>\n",
       "      <td>0</td>\n",
       "      <td>0</td>\n",
       "      <td>0</td>\n",
       "      <td>0</td>\n",
       "      <td>0</td>\n",
       "      <td>0</td>\n",
       "      <td>0</td>\n",
       "      <td>...</td>\n",
       "      <td>0</td>\n",
       "      <td>0</td>\n",
       "      <td>0</td>\n",
       "      <td>0</td>\n",
       "      <td>0</td>\n",
       "      <td>0</td>\n",
       "      <td>0</td>\n",
       "      <td>0</td>\n",
       "      <td>0</td>\n",
       "      <td>0</td>\n",
       "    </tr>\n",
       "    <tr>\n",
       "      <th>1</th>\n",
       "      <td>0</td>\n",
       "      <td>0</td>\n",
       "      <td>0</td>\n",
       "      <td>0</td>\n",
       "      <td>0</td>\n",
       "      <td>0</td>\n",
       "      <td>0</td>\n",
       "      <td>0</td>\n",
       "      <td>0</td>\n",
       "      <td>0</td>\n",
       "      <td>...</td>\n",
       "      <td>0</td>\n",
       "      <td>0</td>\n",
       "      <td>0</td>\n",
       "      <td>0</td>\n",
       "      <td>0</td>\n",
       "      <td>0</td>\n",
       "      <td>0</td>\n",
       "      <td>0</td>\n",
       "      <td>0</td>\n",
       "      <td>0</td>\n",
       "    </tr>\n",
       "    <tr>\n",
       "      <th>2</th>\n",
       "      <td>0</td>\n",
       "      <td>1</td>\n",
       "      <td>0</td>\n",
       "      <td>0</td>\n",
       "      <td>0</td>\n",
       "      <td>0</td>\n",
       "      <td>0</td>\n",
       "      <td>0</td>\n",
       "      <td>0</td>\n",
       "      <td>0</td>\n",
       "      <td>...</td>\n",
       "      <td>0</td>\n",
       "      <td>0</td>\n",
       "      <td>0</td>\n",
       "      <td>0</td>\n",
       "      <td>0</td>\n",
       "      <td>0</td>\n",
       "      <td>0</td>\n",
       "      <td>0</td>\n",
       "      <td>0</td>\n",
       "      <td>0</td>\n",
       "    </tr>\n",
       "  </tbody>\n",
       "</table>\n",
       "<p>3 rows × 2110 columns</p>\n",
       "</div>"
      ],
      "text/plain": [
       "   abandon  ability  able  abstract  accept  access  acclaim  accommodate  \\\n",
       "0        0        1     0         0       0       0        0            0   \n",
       "1        0        0     0         0       0       0        0            0   \n",
       "2        0        1     0         0       0       0        0            0   \n",
       "\n",
       "   accomplish  accord  ...   year  yellow  yes  yet  yield  york  young  zero  \\\n",
       "0           0       0  ...      0       0    0    0      0     0      0     0   \n",
       "1           0       0  ...      0       0    0    0      0     0      0     0   \n",
       "2           0       0  ...      0       0    0    0      0     0      0     0   \n",
       "\n",
       "   zombie  zone  \n",
       "0       0     0  \n",
       "1       0     0  \n",
       "2       0     0  \n",
       "\n",
       "[3 rows x 2110 columns]"
      ]
     },
     "execution_count": 46,
     "metadata": {},
     "output_type": "execute_result"
    }
   ],
   "source": [
    "print(X_cv.shape)\n",
    "pd.DataFrame(X_cv,\n",
    "             columns=cv.get_feature_names()).head(1)"
   ]
  },
  {
   "cell_type": "code",
   "execution_count": 45,
   "metadata": {
    "collapsed": false,
    "scrolled": true
   },
   "outputs": [
    {
     "name": "stdout",
     "output_type": "stream",
     "text": [
      "(1600, 2322)\n"
     ]
    },
    {
     "data": {
      "text/html": [
       "<div>\n",
       "<table border=\"1\" class=\"dataframe\">\n",
       "  <thead>\n",
       "    <tr style=\"text-align: right;\">\n",
       "      <th></th>\n",
       "      <th>abandon</th>\n",
       "      <th>ability</th>\n",
       "      <th>able</th>\n",
       "      <th>abstract</th>\n",
       "      <th>abstract strategy</th>\n",
       "      <th>accept</th>\n",
       "      <th>access</th>\n",
       "      <th>acclaim</th>\n",
       "      <th>accommodate</th>\n",
       "      <th>accomplish</th>\n",
       "      <th>...</th>\n",
       "      <th>year war</th>\n",
       "      <th>yellow</th>\n",
       "      <th>yes</th>\n",
       "      <th>yet</th>\n",
       "      <th>yield</th>\n",
       "      <th>york</th>\n",
       "      <th>young</th>\n",
       "      <th>zero</th>\n",
       "      <th>zombie</th>\n",
       "      <th>zone</th>\n",
       "    </tr>\n",
       "  </thead>\n",
       "  <tbody>\n",
       "    <tr>\n",
       "      <th>0</th>\n",
       "      <td>0</td>\n",
       "      <td>1</td>\n",
       "      <td>0</td>\n",
       "      <td>0</td>\n",
       "      <td>0</td>\n",
       "      <td>0</td>\n",
       "      <td>0</td>\n",
       "      <td>0</td>\n",
       "      <td>0</td>\n",
       "      <td>0</td>\n",
       "      <td>...</td>\n",
       "      <td>0</td>\n",
       "      <td>0</td>\n",
       "      <td>0</td>\n",
       "      <td>0</td>\n",
       "      <td>0</td>\n",
       "      <td>0</td>\n",
       "      <td>0</td>\n",
       "      <td>0</td>\n",
       "      <td>0</td>\n",
       "      <td>0</td>\n",
       "    </tr>\n",
       "    <tr>\n",
       "      <th>1</th>\n",
       "      <td>0</td>\n",
       "      <td>0</td>\n",
       "      <td>0</td>\n",
       "      <td>0</td>\n",
       "      <td>0</td>\n",
       "      <td>0</td>\n",
       "      <td>0</td>\n",
       "      <td>0</td>\n",
       "      <td>0</td>\n",
       "      <td>0</td>\n",
       "      <td>...</td>\n",
       "      <td>0</td>\n",
       "      <td>0</td>\n",
       "      <td>0</td>\n",
       "      <td>0</td>\n",
       "      <td>0</td>\n",
       "      <td>0</td>\n",
       "      <td>0</td>\n",
       "      <td>0</td>\n",
       "      <td>0</td>\n",
       "      <td>0</td>\n",
       "    </tr>\n",
       "    <tr>\n",
       "      <th>2</th>\n",
       "      <td>0</td>\n",
       "      <td>1</td>\n",
       "      <td>0</td>\n",
       "      <td>0</td>\n",
       "      <td>0</td>\n",
       "      <td>0</td>\n",
       "      <td>0</td>\n",
       "      <td>0</td>\n",
       "      <td>0</td>\n",
       "      <td>0</td>\n",
       "      <td>...</td>\n",
       "      <td>0</td>\n",
       "      <td>0</td>\n",
       "      <td>0</td>\n",
       "      <td>0</td>\n",
       "      <td>0</td>\n",
       "      <td>0</td>\n",
       "      <td>0</td>\n",
       "      <td>0</td>\n",
       "      <td>0</td>\n",
       "      <td>0</td>\n",
       "    </tr>\n",
       "  </tbody>\n",
       "</table>\n",
       "<p>3 rows × 2322 columns</p>\n",
       "</div>"
      ],
      "text/plain": [
       "   abandon  ability  able  abstract  abstract strategy  accept  access  \\\n",
       "0        0        1     0         0                  0       0       0   \n",
       "1        0        0     0         0                  0       0       0   \n",
       "2        0        1     0         0                  0       0       0   \n",
       "\n",
       "   acclaim  accommodate  accomplish  ...   year war  yellow  yes  yet  yield  \\\n",
       "0        0            0           0  ...          0       0    0    0      0   \n",
       "1        0            0           0  ...          0       0    0    0      0   \n",
       "2        0            0           0  ...          0       0    0    0      0   \n",
       "\n",
       "   york  young  zero  zombie  zone  \n",
       "0     0      0     0       0     0  \n",
       "1     0      0     0       0     0  \n",
       "2     0      0     0       0     0  \n",
       "\n",
       "[3 rows x 2322 columns]"
      ]
     },
     "execution_count": 45,
     "metadata": {},
     "output_type": "execute_result"
    }
   ],
   "source": [
    "cv2 = CountVectorizer(ngram_range =(1,3),max_df=0.8, min_df=10)\n",
    "\n",
    "X_cv2 = cv2.fit_transform(corpus_orig).toarray()\n",
    "print(X_cv2.shape)\n",
    "pd.DataFrame(X_cv2,\n",
    "             columns=cv2.get_feature_names()).head(1) #.T"
   ]
  },
  {
   "cell_type": "code",
   "execution_count": 66,
   "metadata": {
    "collapsed": false
   },
   "outputs": [
    {
     "name": "stdout",
     "output_type": "stream",
     "text": [
      "(1600, 2110)\n"
     ]
    },
    {
     "data": {
      "text/html": [
       "<div>\n",
       "<table border=\"1\" class=\"dataframe\">\n",
       "  <thead>\n",
       "    <tr style=\"text-align: right;\">\n",
       "      <th></th>\n",
       "      <th>abandon</th>\n",
       "      <th>ability</th>\n",
       "      <th>able</th>\n",
       "      <th>abstract</th>\n",
       "      <th>accept</th>\n",
       "      <th>access</th>\n",
       "      <th>acclaim</th>\n",
       "      <th>accommodate</th>\n",
       "      <th>accomplish</th>\n",
       "      <th>accord</th>\n",
       "      <th>...</th>\n",
       "      <th>year</th>\n",
       "      <th>yellow</th>\n",
       "      <th>yes</th>\n",
       "      <th>yet</th>\n",
       "      <th>yield</th>\n",
       "      <th>york</th>\n",
       "      <th>young</th>\n",
       "      <th>zero</th>\n",
       "      <th>zombie</th>\n",
       "      <th>zone</th>\n",
       "    </tr>\n",
       "  </thead>\n",
       "  <tbody>\n",
       "    <tr>\n",
       "      <th>0</th>\n",
       "      <td>0.0</td>\n",
       "      <td>0.038837</td>\n",
       "      <td>0.0</td>\n",
       "      <td>0.0</td>\n",
       "      <td>0.0</td>\n",
       "      <td>0.0</td>\n",
       "      <td>0.0</td>\n",
       "      <td>0.0</td>\n",
       "      <td>0.0</td>\n",
       "      <td>0.0</td>\n",
       "      <td>...</td>\n",
       "      <td>0.0</td>\n",
       "      <td>0.0</td>\n",
       "      <td>0.0</td>\n",
       "      <td>0.0</td>\n",
       "      <td>0.0</td>\n",
       "      <td>0.0</td>\n",
       "      <td>0.0</td>\n",
       "      <td>0.0</td>\n",
       "      <td>0.0</td>\n",
       "      <td>0.0</td>\n",
       "    </tr>\n",
       "    <tr>\n",
       "      <th>1</th>\n",
       "      <td>0.0</td>\n",
       "      <td>0.000000</td>\n",
       "      <td>0.0</td>\n",
       "      <td>0.0</td>\n",
       "      <td>0.0</td>\n",
       "      <td>0.0</td>\n",
       "      <td>0.0</td>\n",
       "      <td>0.0</td>\n",
       "      <td>0.0</td>\n",
       "      <td>0.0</td>\n",
       "      <td>...</td>\n",
       "      <td>0.0</td>\n",
       "      <td>0.0</td>\n",
       "      <td>0.0</td>\n",
       "      <td>0.0</td>\n",
       "      <td>0.0</td>\n",
       "      <td>0.0</td>\n",
       "      <td>0.0</td>\n",
       "      <td>0.0</td>\n",
       "      <td>0.0</td>\n",
       "      <td>0.0</td>\n",
       "    </tr>\n",
       "    <tr>\n",
       "      <th>2</th>\n",
       "      <td>0.0</td>\n",
       "      <td>0.055081</td>\n",
       "      <td>0.0</td>\n",
       "      <td>0.0</td>\n",
       "      <td>0.0</td>\n",
       "      <td>0.0</td>\n",
       "      <td>0.0</td>\n",
       "      <td>0.0</td>\n",
       "      <td>0.0</td>\n",
       "      <td>0.0</td>\n",
       "      <td>...</td>\n",
       "      <td>0.0</td>\n",
       "      <td>0.0</td>\n",
       "      <td>0.0</td>\n",
       "      <td>0.0</td>\n",
       "      <td>0.0</td>\n",
       "      <td>0.0</td>\n",
       "      <td>0.0</td>\n",
       "      <td>0.0</td>\n",
       "      <td>0.0</td>\n",
       "      <td>0.0</td>\n",
       "    </tr>\n",
       "  </tbody>\n",
       "</table>\n",
       "<p>3 rows × 2110 columns</p>\n",
       "</div>"
      ],
      "text/plain": [
       "   abandon   ability  able  abstract  accept  access  acclaim  accommodate  \\\n",
       "0      0.0  0.038837   0.0       0.0     0.0     0.0      0.0          0.0   \n",
       "1      0.0  0.000000   0.0       0.0     0.0     0.0      0.0          0.0   \n",
       "2      0.0  0.055081   0.0       0.0     0.0     0.0      0.0          0.0   \n",
       "\n",
       "   accomplish  accord  ...   year  yellow  yes  yet  yield  york  young  zero  \\\n",
       "0         0.0     0.0  ...    0.0     0.0  0.0  0.0    0.0   0.0    0.0   0.0   \n",
       "1         0.0     0.0  ...    0.0     0.0  0.0  0.0    0.0   0.0    0.0   0.0   \n",
       "2         0.0     0.0  ...    0.0     0.0  0.0  0.0    0.0   0.0    0.0   0.0   \n",
       "\n",
       "   zombie  zone  \n",
       "0     0.0   0.0  \n",
       "1     0.0   0.0  \n",
       "2     0.0   0.0  \n",
       "\n",
       "[3 rows x 2110 columns]"
      ]
     },
     "execution_count": 66,
     "metadata": {},
     "output_type": "execute_result"
    }
   ],
   "source": [
    "from sklearn.feature_extraction.text import TfidfVectorizer\n",
    "\n",
    "tfidf = TfidfVectorizer(max_df=0.8, min_df=10)\n",
    "\n",
    "X_tfidf = tfidf.fit_transform(corpus_orig).toarray()\n",
    "\n",
    "print(X_tfidf.shape)\n",
    "\n",
    "pd.DataFrame(X_tfidf,\n",
    "             columns=tfidf.get_feature_names()).head(1) #.T"
   ]
  },
  {
   "cell_type": "code",
   "execution_count": 80,
   "metadata": {
    "collapsed": false
   },
   "outputs": [
    {
     "name": "stdout",
     "output_type": "stream",
     "text": [
      "(1600, 2322)\n"
     ]
    },
    {
     "data": {
      "text/html": [
       "<div>\n",
       "<table border=\"1\" class=\"dataframe\">\n",
       "  <thead>\n",
       "    <tr style=\"text-align: right;\">\n",
       "      <th></th>\n",
       "      <th>abandon</th>\n",
       "      <th>ability</th>\n",
       "      <th>able</th>\n",
       "      <th>abstract</th>\n",
       "      <th>abstract strategy</th>\n",
       "      <th>accept</th>\n",
       "      <th>access</th>\n",
       "      <th>acclaim</th>\n",
       "      <th>accommodate</th>\n",
       "      <th>accomplish</th>\n",
       "      <th>...</th>\n",
       "      <th>year war</th>\n",
       "      <th>yellow</th>\n",
       "      <th>yes</th>\n",
       "      <th>yet</th>\n",
       "      <th>yield</th>\n",
       "      <th>york</th>\n",
       "      <th>young</th>\n",
       "      <th>zero</th>\n",
       "      <th>zombie</th>\n",
       "      <th>zone</th>\n",
       "    </tr>\n",
       "  </thead>\n",
       "  <tbody>\n",
       "    <tr>\n",
       "      <th>0</th>\n",
       "      <td>0.0</td>\n",
       "      <td>0.037822</td>\n",
       "      <td>0.0</td>\n",
       "      <td>0.0</td>\n",
       "      <td>0.0</td>\n",
       "      <td>0.0</td>\n",
       "      <td>0.0</td>\n",
       "      <td>0.0</td>\n",
       "      <td>0.0</td>\n",
       "      <td>0.0</td>\n",
       "      <td>...</td>\n",
       "      <td>0.0</td>\n",
       "      <td>0.0</td>\n",
       "      <td>0.0</td>\n",
       "      <td>0.0</td>\n",
       "      <td>0.0</td>\n",
       "      <td>0.0</td>\n",
       "      <td>0.0</td>\n",
       "      <td>0.0</td>\n",
       "      <td>0.0</td>\n",
       "      <td>0.0</td>\n",
       "    </tr>\n",
       "    <tr>\n",
       "      <th>1</th>\n",
       "      <td>0.0</td>\n",
       "      <td>0.000000</td>\n",
       "      <td>0.0</td>\n",
       "      <td>0.0</td>\n",
       "      <td>0.0</td>\n",
       "      <td>0.0</td>\n",
       "      <td>0.0</td>\n",
       "      <td>0.0</td>\n",
       "      <td>0.0</td>\n",
       "      <td>0.0</td>\n",
       "      <td>...</td>\n",
       "      <td>0.0</td>\n",
       "      <td>0.0</td>\n",
       "      <td>0.0</td>\n",
       "      <td>0.0</td>\n",
       "      <td>0.0</td>\n",
       "      <td>0.0</td>\n",
       "      <td>0.0</td>\n",
       "      <td>0.0</td>\n",
       "      <td>0.0</td>\n",
       "      <td>0.0</td>\n",
       "    </tr>\n",
       "    <tr>\n",
       "      <th>2</th>\n",
       "      <td>0.0</td>\n",
       "      <td>0.054745</td>\n",
       "      <td>0.0</td>\n",
       "      <td>0.0</td>\n",
       "      <td>0.0</td>\n",
       "      <td>0.0</td>\n",
       "      <td>0.0</td>\n",
       "      <td>0.0</td>\n",
       "      <td>0.0</td>\n",
       "      <td>0.0</td>\n",
       "      <td>...</td>\n",
       "      <td>0.0</td>\n",
       "      <td>0.0</td>\n",
       "      <td>0.0</td>\n",
       "      <td>0.0</td>\n",
       "      <td>0.0</td>\n",
       "      <td>0.0</td>\n",
       "      <td>0.0</td>\n",
       "      <td>0.0</td>\n",
       "      <td>0.0</td>\n",
       "      <td>0.0</td>\n",
       "    </tr>\n",
       "  </tbody>\n",
       "</table>\n",
       "<p>3 rows × 2322 columns</p>\n",
       "</div>"
      ],
      "text/plain": [
       "   abandon   ability  able  abstract  abstract strategy  accept  access  \\\n",
       "0      0.0  0.037822   0.0       0.0                0.0     0.0     0.0   \n",
       "1      0.0  0.000000   0.0       0.0                0.0     0.0     0.0   \n",
       "2      0.0  0.054745   0.0       0.0                0.0     0.0     0.0   \n",
       "\n",
       "   acclaim  accommodate  accomplish  ...   year war  yellow  yes  yet  yield  \\\n",
       "0      0.0          0.0         0.0  ...        0.0     0.0  0.0  0.0    0.0   \n",
       "1      0.0          0.0         0.0  ...        0.0     0.0  0.0  0.0    0.0   \n",
       "2      0.0          0.0         0.0  ...        0.0     0.0  0.0  0.0    0.0   \n",
       "\n",
       "   york  young  zero  zombie  zone  \n",
       "0   0.0    0.0   0.0     0.0   0.0  \n",
       "1   0.0    0.0   0.0     0.0   0.0  \n",
       "2   0.0    0.0   0.0     0.0   0.0  \n",
       "\n",
       "[3 rows x 2322 columns]"
      ]
     },
     "execution_count": 80,
     "metadata": {},
     "output_type": "execute_result"
    }
   ],
   "source": [
    "tfidf2 = TfidfVectorizer(max_df=0.8, min_df=10,ngram_range =(1,2))\n",
    "\n",
    "X_tfidf2 = tfidf2.fit_transform(corpus_orig).toarray()\n",
    "print(X_tfidf2.shape)\n",
    "pd.DataFrame(X_tfidf2,\n",
    "             columns=tfidf2.get_feature_names()).head(1) #.T"
   ]
  },
  {
   "cell_type": "markdown",
   "metadata": {},
   "source": [
    "## Try some topic modeling!"
   ]
  },
  {
   "cell_type": "markdown",
   "metadata": {},
   "source": [
    "from http://scikit-learn.org/stable/auto_examples/applications/plot_topics_extraction_with_nmf_lda.html#sphx-glr-auto-examples-applications-plot-topics-extraction-with-nmf-lda-py"
   ]
  },
  {
   "cell_type": "markdown",
   "metadata": {},
   "source": [
    "#### LDA:"
   ]
  },
  {
   "cell_type": "code",
   "execution_count": 74,
   "metadata": {
    "collapsed": true
   },
   "outputs": [],
   "source": [
    "from pprint import pprint\n",
    "from sklearn.decomposition import LatentDirichletAllocation"
   ]
  },
  {
   "cell_type": "code",
   "execution_count": 69,
   "metadata": {
    "collapsed": false
   },
   "outputs": [
    {
     "name": "stderr",
     "output_type": "stream",
     "text": [
      "/anaconda/lib/python2.7/site-packages/sklearn/decomposition/online_lda.py:508: DeprecationWarning: The default value for 'learning_method' will be changed from 'online' to 'batch' in the release 0.20. This warning was introduced in 0.18.\n",
      "  DeprecationWarning)\n"
     ]
    },
    {
     "data": {
      "text/plain": [
       "LatentDirichletAllocation(batch_size=128, doc_topic_prior=None,\n",
       "             evaluate_every=-1, learning_decay=0.7, learning_method=None,\n",
       "             learning_offset=10.0, max_doc_update_iter=100, max_iter=20,\n",
       "             mean_change_tol=0.001, n_jobs=1, n_topics=12, perp_tol=0.1,\n",
       "             random_state=42, topic_word_prior=None,\n",
       "             total_samples=1000000.0, verbose=0)"
      ]
     },
     "execution_count": 69,
     "metadata": {},
     "output_type": "execute_result"
    }
   ],
   "source": [
    "n_topics = 12\n",
    "n_iter = 20\n",
    "\n",
    "lda1 = LatentDirichletAllocation(n_topics=n_topics,\n",
    "                                max_iter=n_iter,\n",
    "                                random_state=42)\n",
    "\n",
    "lda1.fit(X_cv)\n"
   ]
  },
  {
   "cell_type": "code",
   "execution_count": 76,
   "metadata": {
    "collapsed": false
   },
   "outputs": [
    {
     "name": "stdout",
     "output_type": "stream",
     "text": [
      "Topic #0: build, building, resource, world, worker, empire, map, power, city, civilization, great, war, money, action, trade, need, land, system, provide, technology\n",
      "Topic #1: wing, ghost, street, forest, fighter, pilot, murder, crime, mystery, farm, tie, mr, solve, scientist, medium, war, suspect, detective, case, wine\n",
      "Topic #2: deck, set, play, like, character, release, add, hand, round, well, box, give, start, go, draw, include, base, feature, change, allow\n",
      "Topic #3: piece, place, move, animal, color, tower, opponent, block, pawn, region, side, marker, play, square, win, row, wooden, red, make, around\n",
      "Topic #4: city, resource, dice, ring, bid, roll, build, year, disease, tile, people, settler, bridge, road, settlement, land, earth, hotel, property, improvement\n",
      "Topic #5: team, guess, word, agent, letter, secret, season, party, clue, question, timer, second, figure, field, hidden, fan, ball, crystal, deduction, close\n",
      "Topic #6: control, power, action, city, character, influence, battle, faction, build, king, gain, war, opponent, choose, deck, order, building, force, army, strategy\n",
      "Topic #7: monster, dungeon, battle, set, hero, dragon, level, planet, war, treasure, scenario, base, system, encounter, command, mission, combat, alien, character, series\n",
      "Topic #8: tile, place, round, action, hand, color, value, dice, score, move, roll, start, space, draw, win, play, next, track, high, five\n",
      "Topic #9: money, good, round, action, room, castle, want, sell, gem, gold, buy, need, get, role, show, collect, vote, everyone, mdash, pay\n",
      "Topic #10: train, route, answer, trade, star, destination, station, ship, ticket, day, question, connect, base, car, bet, colony, map, europe, line, country\n",
      "Topic #11: ship, world, adventure, race, pirate, hero, island, treasure, dice, find, move, spell, zombie, character, way, ancient, space, magic, quest, role\n",
      "\n"
     ]
    }
   ],
   "source": [
    "n_top_words = 20\n",
    "tf_feature_names = cv.get_feature_names()\n",
    "print_top_words(lda1, tf_feature_names, n_top_words)"
   ]
  },
  {
   "cell_type": "code",
   "execution_count": 101,
   "metadata": {
    "collapsed": false
   },
   "outputs": [
    {
     "name": "stdout",
     "output_type": "stream",
     "text": [
      "Topic 0:\n",
      "build, building, resource, world, worker, empire, map, power, city, civilization, great, war, money, action, trade, need, land, system, provide, technology\n",
      "[u'The Manhattan Project: Energy Empire', u'Historia', u'Panzer Leader', u'Power Grid: Benelux/Central Europe', u'PanzerBlitz', u'Axis & Allies', u'Axis & Allies: Europe', u'Progress: Evolution of Technology', u'Diplomacy', u'Twilight Struggle', u'Constantinopolis', u'Oh My Goods!', u'Age of Industry', u'Axis & Allies Anniversary Edition', u'Wealth of Nations', u'Spyrium', u'Java', u'Axis & Allies', u'Planet Steam', u'CO\\u2082']\n",
      "Topic 1:\n",
      "wing, ghost, street, forest, fighter, pilot, murder, crime, mystery, farm, tie, mr, solve, scientist, medium, war, suspect, detective, case, wine\n",
      "[u'Fluxx', u'Zombie Fluxx', u'Star Wars: X-Wing Miniatures Game \\u2013 X-Wing Expansion Pack', u'Star Wars: X-Wing Miniatures Game \\u2013 TIE Interceptor Expansion Pack', u'Star Wars: X-Wing Miniatures Game \\u2013 TIE Advanced Expansion Pack', u'Mysterium', u'Deception: Murder in Hong Kong', u'Star Wars: X-Wing Miniatures Game \\u2013 TIE Fighter Expansion Pack', u'Star Wars: X-Wing Miniatures Game \\u2013 Y-Wing Expansion Pack', u'Star Wars: X-Wing Miniatures Game \\u2013 A-Wing Expansion Pack', u'Star Wars: X-Wing Miniatures Game \\u2013 Millennium Falcon Expansion Pack', u'Monty Python Fluxx', u'Mystery of the Abbey', u'221B Baker Street: The Master Detective Game', u'Caverna: The Cave Farmers', u'Agricola: Farmers of the Moor', u'Star Wars: X-Wing Miniatures Game', u'Sherlock Holmes Consulting Detective: The Thames Murders & Other Cases', u'Mystery Express', u'Forbidden Desert']\n",
      "Topic 2:\n",
      "deck, set, play, like, character, release, add, hand, round, well, box, give, start, go, draw, include, base, feature, change, allow\n",
      "[u'Dominion: Intrigue', u'Knightmare Chess', u'Once Upon a Time: The Storytelling Card Game', u'Beyond Balderdash', u'Waterworks', u'The Lord of the Rings: The Card Game', u'Kingsburg: To Forge a Realm', u'Sushi Go!', u'Agricola', u'Funny Friends', u'Lord of the Rings: Friends & Foes', u'Divinare', u'Dominion: Cornucopia', u'Aye, Dark Overlord! The Red Box', u'Fresco', u'Jungle Speed', u'Exploding Kittens', u'Legendary: Paint the Town Red', u'One Night Ultimate Werewolf', u'Legendary: Guardians of the Galaxy']\n",
      "Topic 3:\n",
      "piece, place, move, animal, color, tower, opponent, block, pawn, region, side, marker, play, square, win, row, wooden, red, make, around\n",
      "[u'Blokus', u'Blokus Trigon', u'DVONN', u'Hive Pocket', u'Hive', u'Quarto', u'Quoridor', u'Hive: The Mosquito', u'Pentago', u'Jenga', u'Timeline: Discoveries', u'Timeline: Inventions', u'Gobblet', u'Hive: The Ladybug', u'Animal Upon Animal', u'Onitama', u'Checkers', u'Timeline: Music & Cinema', u'Carcassonne: The Tower', u'Crokinole']\n",
      "Topic 4:\n",
      "city, resource, dice, ring, bid, roll, build, year, disease, tile, people, settler, bridge, road, settlement, land, earth, hotel, property, improvement\n",
      "[u'Catan', u'Pandemic', u'Elasund: The First City', u'War of the Ring (first edition)', u'War of the Ring (Second Edition)', u'Vegas Showdown', u'Pandemic: The Cure', u'The Pillars of the Earth: Expansion Set', u'Hotel Tycoon', u'Neuroshima Hex!', u'Catan: Portable Edition', u'Kahuna', u'Pandemic: Contagion', u'Kingsburg', u'Catan: Seafarers', u'Bridge', u'Struggle for Catan', u'Viticulture', u'The Great Fire of London 1666', u'Catan: Cities & Knights']\n",
      "Topic 5:\n",
      "team, guess, word, agent, letter, secret, season, party, clue, question, timer, second, figure, field, hidden, fan, ball, crystal, deduction, close\n",
      "[u'Codenames', u'Takenoko', u'The Resistance: Avalon', u'Concept', u'Telestrations', u'Taboo', u'Boggle', u'Cranium', u'Blood Bowl: Team Manager \\u2013 The Card Game', u'Codenames: Pictures', u'Takenoko: Chibis', u\"Time's Up! Title Recall!\", u'Two Rooms and a Boom', u'Blood Bowl (Third Edition)', u'Good Cop Bad Cop', u'Zendo', u'Secret Hitler', u'Betrayal at House on the Hill', u'Word on the Street', u'Blood Bowl: Team Manager \\u2013 The Card Game \\u2013 Sudden Death']\n",
      "Topic 6:\n",
      "control, power, action, city, character, influence, battle, faction, build, king, gain, war, opponent, choose, deck, order, building, force, army, strategy\n",
      "[u'Blood Rage', u'Palastgefl\\xfcster', u'A Game of Thrones: The Board Game (Second Edition)', u\"Tzolk'in: The Mayan Calendar \\u2013 Tribes & Prophecies\", u'Tyrants of the Underdark', u'Lords of Waterdeep', u'Oasis', u'Abyss', u'In the Shadow of the Emperor', u'Verr\\xe4ter', u'Kingdomino', u'The Republic of Rome', u'A Game of Thrones (first edition)', u'Council of Verona', u'Perikles', u'Cyclades: Hades', u'Coup: Rebellion G54', u'Fjords', u'Pixel Tactics', u'Chaos in the Old World']\n",
      "Topic 7:\n",
      "monster, dungeon, battle, set, hero, dragon, level, planet, war, treasure, scenario, base, system, encounter, command, mission, combat, alien, character, series\n",
      "[u'Munchkin', u'Munchkin Fu', u'Munchkin Bites!', u'Star Munchkin', u'Risk: Star Wars Edition', u'Tikal', u'Tomb', u'Cosmic Encounter', u'Super Munchkin', u'Munchkin Cthulhu', u'BattleLore', u'Munchkin Zombies', u'Star Wars: Imperial Assault', u'Munchkin Booty', u'Dungeon Roll', u'Monopoly: Star Wars', u'Super Dungeon Explore', u'Heroscape Marvel: The Conflict Begins', u'Cave Troll', u'Star Wars: Rebellion']\n",
      "Topic 8:\n",
      "tile, place, round, action, hand, color, value, dice, score, move, roll, start, space, draw, win, play, next, track, high, five\n",
      "[u'Wizard', u'Patchwork', u'Qwixx', u'Linko!', u'Sluff Off!', u'Marrakech', u'Spades', u'Phase 10', u'LCR', u'W\\xfcrfel Bohnanza', u'Red7', u'Pack & Stack', u'Ingenious', u'Ligretto', u'Las Vegas', u'David & Goliath', u'Tsuro', u'Blink', u'Buccaneer', u\"Can't Stop\"]\n",
      "Topic 9:\n",
      "money, good, round, action, room, castle, want, sell, gem, gold, buy, need, get, role, show, collect, vote, everyone, mdash, pay\n",
      "[u'Istanbul', u'Dixit', u\"Ca$h 'n Guns (Second Edition)\", u'Sheriff of Nottingham', u\"I'm the Boss!\", u'Rococo', u'California', u'Castles of Mad King Ludwig', u\"Ca$h 'n Gun$\", u'Saboteur 2 (expansion-only editions)', u'The Bloody Inn', u'Mafia de Cuba', u'Boomtown', u'Felix: The Cat in the Sack', u'King of Tokyo: Power Up!', u'Istanbul: Mocha & Baksheesh', u'Splendor', u'7 Wonders: Catan', u'Room 25', u'Things...']\n",
      "Topic 10:\n",
      "train, route, answer, trade, star, destination, station, ship, ticket, day, question, connect, base, car, bet, colony, map, europe, line, country\n",
      "[u'Ticket to Ride: USA 1910', u'Ticket to Ride: Europe', u'Star Realms', u'Ticket to Ride: 10th Anniversary', u'Ticket to Ride Map Collection: Volume 2 \\u2013 India & Switzerland', u'Ticket to Ride: Switzerland', u'Star Realms: Crisis \\u2013 Bases & Battleships', u'Ticket to Ride: Nordic Countries', u'Star Realms: Colony Wars', u'Cards Against Humanity', u'Mexican Train', u'Mystery Rummy: Jack the Ripper', u'Ticket to Ride: The Card Game', u'First Class', u'On the Underground', u'Ticket to Ride Map Collection: Volume 5 \\u2013 United Kingdom & Pennsylvania', u'Star Realms: Crisis \\u2013 Fleets & Fortresses', u'Cards Against Humanity: Third Expansion', u'Give Me the Brain!', u'Wits & Wagers']\n",
      "Topic 11:\n",
      "ship, world, adventure, race, pirate, hero, island, treasure, dice, find, move, spell, zombie, character, way, ancient, space, magic, quest, role\n",
      "[u'Arkham Horror: The Black Goat of the Woods Expansion', u'Elder Sign', u'Arkham Horror: Kingsport Horror Expansion', u'Mansions of Madness', u'Eldritch Horror: Forsaken Lore', u'Zombicide', u'Sentinels of the Multiverse: Infernal Relics', u'Mansions of Madness: Second Edition', u'Castaways', u'Last Night on Earth: Growing Hunger', u'Eldritch Horror: Strange Remnants', u'Cthulhu Dice', u\"Pirate's Cove\", u'Arkham Horror', u'Elder Sign: Gates of Arkham', u'Robinson Crusoe: Adventures on the Cursed Island', u'Tobago', u'Pandemic: Reign of Cthulhu', u'Talisman (Revised 4th Edition)', u'Runebound (Third Edition)']\n"
     ]
    }
   ],
   "source": [
    "no_top_words = 20\n",
    "\n",
    "LDA_1_df = display_topics_and_titles(X_cv, cv, lda1, no_top_words, test_df['name'])\n"
   ]
  },
  {
   "cell_type": "code",
   "execution_count": 71,
   "metadata": {
    "collapsed": false
   },
   "outputs": [
    {
     "name": "stderr",
     "output_type": "stream",
     "text": [
      "/anaconda/lib/python2.7/site-packages/sklearn/decomposition/online_lda.py:508: DeprecationWarning: The default value for 'learning_method' will be changed from 'online' to 'batch' in the release 0.20. This warning was introduced in 0.18.\n",
      "  DeprecationWarning)\n"
     ]
    },
    {
     "data": {
      "text/plain": [
       "LatentDirichletAllocation(batch_size=128, doc_topic_prior=None,\n",
       "             evaluate_every=-1, learning_decay=0.7, learning_method=None,\n",
       "             learning_offset=10.0, max_doc_update_iter=100, max_iter=20,\n",
       "             mean_change_tol=0.001, n_jobs=1, n_topics=12, perp_tol=0.1,\n",
       "             random_state=42, topic_word_prior=None,\n",
       "             total_samples=1000000.0, verbose=0)"
      ]
     },
     "execution_count": 71,
     "metadata": {},
     "output_type": "execute_result"
    }
   ],
   "source": [
    "n_topics = 12\n",
    "n_iter = 20\n",
    "\n",
    "lda2 = LatentDirichletAllocation(n_topics=n_topics,\n",
    "                                max_iter=n_iter,\n",
    "                                random_state=42)\n",
    "\n",
    "lda2.fit(X_cv2)"
   ]
  },
  {
   "cell_type": "code",
   "execution_count": 77,
   "metadata": {
    "collapsed": false
   },
   "outputs": [
    {
     "name": "stdout",
     "output_type": "stream",
     "text": [
      "Topic #0: build, action, building, city, resource, money, round, ship, good, gain, order, need, land, buy, earn, best, place, choose, trade, work\n",
      "Topic #1: empire, ship, star, planet, space, faction, war, alien, mission, galaxy, command, colony, system, fleet, imperial, wing, combat, star war, trade, objective\n",
      "Topic #2: battle, king, god, army, clan, phase, hill, order, unit, power, throne, strategy, capital, kingdom, avalon, prince, knight, avalon hill, blood, house\n",
      "Topic #3: tile, dice, move, roll, place, space, token, round, color, start, next, show, chip, track, settlement, another, win, guess, take, reach\n",
      "Topic #4: deck, hero, monster, set, dungeon, adventure, character, dragon, world, battle, base, treasure, magic, quest, power, spell, fight, defeat, scenario, ability\n",
      "Topic #5: animal, worker, power, field, tribe, eacute, plant, pyramid, grid, specie, special power, place, bet, need, spot, caravan, special, sheep, available, placement\n",
      "Topic #6: island, treasure, answer, level, escape, like, everyone, encounter, part, question, survive, draw, real, leave, com, guess, best, http, fun, grab\n",
      "Topic #7: world, war, character, team, control, power, event, special, age, set, civilization, represent, leader, role, fight, unique, action, force, ability, attack\n",
      "Topic #8: train, map, car, country, europe, line, series, track, state, race, original, city, set, de, company, side, rail, add, publish, ally\n",
      "Topic #9: target, chicken, sheriff, gun, bang, shot, kill, disc, shoot, table, flick, front, split, bullet, cash, dexterity, promo, aim, hold, keep\n",
      "Topic #10: place, piece, hand, color, round, deck, play, win, draw, value, score, face, city, start, set, four, high, tile, five, discard\n",
      "Topic #11: castle, room, house, stone, wall, tree, path, park, cat, go, invention, guest, well, seal, tower, wooden, risk, strategy, lead, stage\n",
      "\n"
     ]
    }
   ],
   "source": [
    "n_top_words = 20\n",
    "tf_feature_names_2 = cv2.get_feature_names()\n",
    "#print(tf_feature_names_2)\n",
    "print_top_words(lda2, tf_feature_names_2, n_top_words)"
   ]
  },
  {
   "cell_type": "code",
   "execution_count": 102,
   "metadata": {
    "collapsed": false
   },
   "outputs": [
    {
     "name": "stdout",
     "output_type": "stream",
     "text": [
      "Topic 0:\n",
      "build, action, building, city, resource, money, round, ship, good, gain, order, need, land, buy, earn, best, place, choose, trade, work\n",
      "[u'Le Havre: The Inland Port', u'Fresco', u'Industria', u'Capitol', u'Le Havre', u'Homesteaders', u'Saint Petersburg', u'The Gallerist', u'Java', u'Hansa', u'Palazzo', u'Istanbul: Mocha & Baksheesh', u'Cuba', u'Village Inn', u'Toledo', u'Pay Day', u'Luna', u'Bruxelles 1893', u'El Caballero', u'Brew Crafters']\n",
      "Topic 1:\n",
      "empire, ship, star, planet, space, faction, war, alien, mission, galaxy, command, colony, system, fleet, imperial, wing, combat, star war, trade, objective\n",
      "[u'Eclipse', u'Cosmic Encounter', u'Monopoly: Star Wars', u'Among the Stars', u'Star Wars: Rebellion', u'Risk: Star Wars Edition', u'Star Wars: X-Wing Miniatures Game \\u2013 A-Wing Expansion Pack', u'Star Realms: Crisis \\u2013 Bases & Battleships', u'Star Realms: Crisis \\u2013 Events', u'Star Wars: X-Wing Miniatures Game \\u2013 TIE Interceptor Expansion Pack', u'Cosmic Encounter: Cosmic Incursion', u'Roll for the Galaxy: Ambition', u'Star Trek: Attack Wing', u'Star Wars: X-Wing Miniatures Game \\u2013 Millennium Falcon Expansion Pack', u'Star Wars: X-Wing Miniatures Game \\u2013 Y-Wing Expansion Pack', u'Ascending Empires', u'Starfarers of Catan', u'Star Wars: X-Wing Miniatures Game \\u2013 X-Wing Expansion Pack', u'Star Wars: Imperial Assault', u'Star Wars: The Card Game']\n",
      "Topic 2:\n",
      "battle, king, god, army, clan, phase, hill, order, unit, power, throne, strategy, capital, kingdom, avalon, prince, knight, avalon hill, blood, house\n",
      "[u'Blood Rage', u'A Game of Thrones: The Board Game (Second Edition)', u'Sheriff of Nottingham', u'A Game of Thrones: A Clash of Kings Expansion', u'RoboRally', u'Senji', u'Medieval Academy', u'Spartacus: A Game of Blood & Treachery', u'Colossal Arena', u'Runewars', u'Chaos in the Old World', u'A Game of Thrones (first edition)', u'King Me!', u'Sun Tzu', u'Diplomacy', u'Ivanhoe', u'Warhammer', u\"King's Breakfast\", u'Space Hulk: Death Angel \\u2013 The Card Game', u'War of the Ring: Battles of the Third Age']\n",
      "Topic 3:\n",
      "tile, dice, move, roll, place, space, token, round, color, start, next, show, chip, track, settlement, another, win, guess, take, reach\n",
      "[u'Mysterium', u'Patchwork', u'Blockers!', u'Codenames', u'LCR', u'Letters from Whitechapel', u'Farkle', u'Trivial Pursuit', u'Dixit: Journey', u'Dixit Quest', u\"Can't Stop\", u'Las Vegas', u'Indigo', u'Dixit 3: Journey', u'Dixit: Origins', u'Abalone', u'Word on the Street', u'Telestrations', u'Trouble', u'Ra: The Dice Game']\n",
      "Topic 4:\n",
      "deck, hero, monster, set, dungeon, adventure, character, dragon, world, battle, base, treasure, magic, quest, power, spell, fight, defeat, scenario, ability\n",
      "[u'Pathfinder Adventure Card Game: Rise of the Runelords \\u2013 Base Set', u'Descent: Journeys in the Dark', u'Legendary: Dark City', u'Legendary: Villains \\u2013 A Marvel Deck Building Game', u'Tomb', u'Legendary: Paint the Town Red', u'Legendary: Fantastic Four', u'Warhammer Quest: The Adventure Card Game', u'Dungeons & Dragons: Wrath of Ashardalon Board Game', u'Dungeons & Dragons: The Fantasy Adventure Board Game', u'Runebound (Third Edition)', u'Zombicide: Toxic City Mall', u'Dungeons & Dragons: The Legend of Drizzt Board Game', u'Quarriors! Quarmageddon', u'Legendary: Guardians of the Galaxy', u'Arkham Horror', u'Epic Spell Wars of the Battle Wizards: Duel at Mt. Skullzfyre', u'Pathfinder Adventure Card Game: Skull & Shackles \\u2013 Base Set', u'Magic: The Gathering', u'Arkham Horror: Kingsport Horror Expansion']\n",
      "Topic 5:\n",
      "animal, worker, power, field, tribe, eacute, plant, pyramid, grid, specie, special power, place, bet, need, spot, caravan, special, sheep, available, placement\n",
      "[u\"Tzolk'in: The Mayan Calendar\", u'Power Grid', u'San Juan', u'San Juan (second edition)', u'Power Grid Deluxe: Europe/North America', u'Power Grid: China/Korea', u'Power Grid: Benelux/Central Europe', u'Camel Up', u'Animal Upon Animal', u'Power Grid: France/Italy', u'Five Tribes', u'Power Grid: Brazil/Spain & Portugal', u'Through the Desert', u'Beasty Bar', u'Evolution: Climate', u'Arctic Scavengers', u'Catan: Seafarers', u'Wooly Bully', u'Pok\\xe9mon Trading Card Game', u'Viticulture Essential Edition']\n",
      "Topic 6:\n",
      "island, treasure, answer, level, escape, like, everyone, encounter, part, question, survive, draw, real, leave, com, guess, best, http, fun, grab\n",
      "[u'Survive: Escape from Atlantis! 5-6 Player Mini Expansion', u'Wits & Wagers', u'Cards Against Humanity: First Expansion', u'Cards Against Humanity: Second Expansion', u'Cards Against Humanity: Third Expansion', u'Star Munchkin', u'Survive: Escape from Atlantis!', u'Cards Against Humanity', u'Hive', u'Hive Pocket', u'Munchkin Booty', u'Munchkin Fu', u'Munchkin Bites!', u'Munchkin', u'Super Munchkin', u'Munchkin Zombies', u'Munchkin 3: Clerical Errors', u'Munchkin Cthulhu', u'Give Me the Brain!', u'Eat Poop You Cat']\n",
      "Topic 7:\n",
      "world, war, character, team, control, power, event, special, age, set, civilization, represent, leader, role, fight, unique, action, force, ability, attack\n",
      "[u'War of the Ring (first edition)', u'Lord of the Rings: The Confrontation', u'BattleCON: War of Indines', u'War of the Ring (Second Edition)', u'Pandemic: On the Brink', u'Small World: Be Not Afraid...', u'Risk: The Lord of the Rings Trilogy Edition', u'Fury of Dracula (third edition)', u'Sylla', u'Lord of the Rings: The Confrontation', u'Twilight Struggle', u'Lord of the Rings', u'Pandemic', u'Middle-Earth Quest', u'Tuscany: Expand the World of Viticulture', u'Lord of the Rings: Sauron', u'B-17: Queen of the Skies', u'Panic Station', u'Ashes: Rise of the Phoenixborn', u'Advanced Squad Leader: Starter Kit #1']\n",
      "Topic 8:\n",
      "train, map, car, country, europe, line, series, track, state, race, original, city, set, de, company, side, rail, add, publish, ally\n",
      "[u'Railways of Europe', u'Ticket to Ride: Nordic Countries', u'Railways of the World', u'Formula D\\xe9', u'Catan: 5-6 Player Extension', u'Ticket to Ride: USA 1910', u'Axis & Allies: Europe', u'Ticket to Ride: 10th Anniversary', u'Ticket to Ride Map Collection: Volume 5 \\u2013 United Kingdom & Pennsylvania', u'Ave Caesar', u'Mexican Train', u'Boggle', u'Catan: Cities & Knights \\u2013 5-6 Player Extension', u'Ticket to Ride: Europa 1912', u'Die Macher', u'Ticket to Ride: Europe', u'Streetcar', u'Axis & Allies Anniversary Edition', u'Airlines Europe', u'Ticket to Ride Map Collection: Volume 2 \\u2013 India & Switzerland']\n",
      "Topic 9:\n",
      "target, chicken, sheriff, gun, bang, shot, kill, disc, shoot, table, flick, front, split, bullet, cash, dexterity, promo, aim, hold, keep\n",
      "[u'Fluxx', u'Zombie Fluxx', u'BANG! The Bullet!', u'Monty Python Fluxx', u\"Ca$h 'n Gun$\", u'BANG!', u\"Flick 'em Up!\", u\"Ca$h 'n Guns (Second Edition)\", u'BANG! The Dice Game', u'Chicken Cha Cha Cha', u'BANG! A Fistful of Cards', u'Good Cop Bad Cop', u'BANG! High Noon', u'Pick Picknic', u'Frag', u'Battleship', u'Atlantic Star', u'Sheriff of Nottingham', u'BANG! Dodge City', u'Adrenaline']\n",
      "Topic 10:\n",
      "place, piece, hand, color, round, deck, play, win, draw, value, score, face, city, start, set, four, high, tile, five, discard\n",
      "[u'Lost Cities', u'Wizard', u'Diamonds', u'Linko!', u'Mamma Mia!', u'Gobblet', u'The Game', u'Qwirkle', u'Carcassonne: The Tower', u'Parade', u'Timeline: Historical Events', u'Timeline: Music & Cinema', u'Spades', u'Circus Flohcati', u'Rook', u'Cockroach Salad', u'SET', u'Red7', u'Cribbage', u'Cockroach Poker']\n",
      "Topic 11:\n",
      "castle, room, house, stone, wall, tree, path, park, cat, go, invention, guest, well, seal, tower, wooden, risk, strategy, lead, stage\n",
      "[u'Love Letter', u'Pentago', u'Arkadia', u'Castles of Mad King Ludwig', u'Castle Panic', u'Agricola', u'Felix: The Cat in the Sack', u'Go', u'Quoridor', u'Dominion: Alchemy', u'Enchanted Forest', u'California', u'Dream Home', u'Jaipur', u'Carcassonne: The Castle', u'Midnight Party', u'Room 25', u'Kodama: The Tree Spirits', u'Risk (Revised Edition)', u'Stone Age']\n"
     ]
    }
   ],
   "source": [
    "no_top_words = 20\n",
    "\n",
    "LDA_2_df = display_topics_and_titles(X_cv2, cv2, lda2, no_top_words, test_df['name'])"
   ]
  },
  {
   "cell_type": "markdown",
   "metadata": {},
   "source": [
    "#### NMF:"
   ]
  },
  {
   "cell_type": "code",
   "execution_count": 82,
   "metadata": {
    "collapsed": false
   },
   "outputs": [
    {
     "name": "stdout",
     "output_type": "stream",
     "text": [
      "\n",
      "Topics in NMF model (Frobenius norm):\n",
      "Topic #0: building, build, worker, resource, phase, money, construct, action, round, provide, good, civilization, age, architect, trade, acquire, production, develop, castle, place\n",
      "Topic #1: monster, dungeon, hero, treasure, level, dragon, encounter, defeat, adventure, deck, quest, adventurer, acquire, spell, kill, class, trap, zombie, villain, bos\n",
      "Topic #2: tile, place, color, adjacent, settlement, road, field, side, meeples, hex, island, score, area, next, type, connect, match, water, worker, landscape\n",
      "Topic #3: round, action, hand, deck, place, color, play, draw, move, win, value, start, five, money, order, choose, score, high, give, face\n",
      "Topic #4: war, world, battle, power, army, unit, control, scenario, faction, force, set, empire, map, system, combat, star, base, command, fight, deck\n",
      "Topic #5: piece, place, move, opponent, square, color, tower, capture, hive, row, make, stack, white, shape, block, jump, set, project, black, abstract\n",
      "Topic #6: ship, pirate, good, island, captain, trade, crew, port, space, sea, merchant, cargo, star, sail, fleet, harbor, deliver, trader, sell, load\n",
      "Topic #7: dice, roll, result, set, custom, time, aside, six, brain, favor, uuml, show, men, resource, end, bag, chip, energy, take, combination\n",
      "Topic #8: train, ticket, route, destination, map, europe, car, rail, connect, railway, railroad, country, station, track, company, bonus, collection, rout, locomotive, build\n",
      "Topic #9: city, route, road, tower, wall, population, knight, good, empire, guild, place, feature, palace, build, control, large, district, connect, improvement, house\n",
      "Topic #10: character, adventure, coin, ring, influence, ability, hero, face, action, villain, opponent, move, location, shadow, life, deck, lord, special, marvel, role\n",
      "Topic #11: animal, specie, space, sheep, big, water, sound, place, party, token, farm, type, weight, park, top, scientist, bid, bar, forest, five\n",
      "\n",
      "Fitting the NMF model (generalized Kullback-Leibler divergence) with tf-idf features, n_samples=1600 and n_features=2110...\n"
     ]
    }
   ],
   "source": [
    "n_samples = X_tfidf.shape[0]\n",
    "n_features = X_tfidf.shape[1]\n",
    "#n_features = 1000\n",
    "n_components = 12   #This is number of topics\n",
    "n_top_words = 20\n",
    "\n",
    "\n",
    "from sklearn.decomposition import NMF\n",
    "\n",
    "nmf = NMF(n_components=n_components, random_state=1,\n",
    "          alpha=.1, l1_ratio=.5).fit(X_tfidf)\n",
    "\n",
    "\n",
    "print(\"\\nTopics in NMF model (Frobenius norm):\")\n",
    "tfidf_feature_names = tfidf.get_feature_names()\n",
    "print_top_words(nmf, tfidf_feature_names, n_top_words)\n",
    "\n",
    "# Fit the NMF model\n",
    "print(\"Fitting the NMF model (generalized Kullback-Leibler divergence) with \"\n",
    "      \"tf-idf features, n_samples=%d and n_features=%d...\"\n",
    "      % (n_samples, n_features))\n",
    "\n"
   ]
  },
  {
   "cell_type": "code",
   "execution_count": 103,
   "metadata": {
    "collapsed": false
   },
   "outputs": [
    {
     "name": "stdout",
     "output_type": "stream",
     "text": [
      "Topic 0:\n",
      "building, build, worker, resource, phase, money, construct, action, round, provide, good, civilization, age, architect, trade, acquire, production, develop, castle, place\n",
      "[u'Homesteaders', u'Caylus', u'Ora et Labora', u'The Builders: Middle Ages', u'Harbour', u'Le Havre: The Inland Port', u'Imperial Settlers', u'Keythedral', u'San Juan (second edition)', u'Citadels', u'The City', u'Le Havre', u'Alhambra', u'OddVille', u'Caylus Magna Carta', u'Capitol', u'San Juan', u'Belfort', u'Glass Road', u'New York 1901']\n",
      "Topic 1:\n",
      "monster, dungeon, hero, treasure, level, dragon, encounter, defeat, adventure, deck, quest, adventurer, acquire, spell, kill, class, trap, zombie, villain, bos\n",
      "[u'Thunderstone: Dragonspire', u'Super Munchkin', u'Dungeon!', u'Munchkin', u'Munchkin Cthulhu', u'Munchkin Bites!', u'Super Dungeon Explore', u'Munchkin Fu', u'Dungeons & Dragons: Wrath of Ashardalon Board Game', u'Thunderstone', u'Star Munchkin', u'Dungeons & Dragons: Castle Ravenloft Board Game', u'Munchkin 6: Demented Dungeons', u'Munchkin Booty', u'Munchkin Zombies', u'Dungeon Run', u'Dungeon Roll', u'Munchkin Quest', u'Warhammer Quest: The Adventure Card Game', u'Descent: Journeys in the Dark']\n",
      "Topic 2:\n",
      "tile, place, color, adjacent, settlement, road, field, side, meeples, hex, island, score, area, next, type, connect, match, water, worker, landscape\n",
      "[u'Infinite City', u'Blockers!', u'Beowulf: The Movie Board Game', u'Tantrix', u'Key Harvest', u'Seeland', u'10 Days in the USA', u'Sushizock im Gockelwok', u'New England', u'10 Days in Europe', u'Ingenious', u'Cacao', u'The Duke', u'Tsuro of the Seas', u'Mondo', u'The Castles of Burgundy', u'Carcassonne', u'10 Days in Africa', u'Ginkgopolis', u'Carcassonne: Expansion 5 \\u2013 Abbey & Mayor']\n",
      "Topic 3:\n",
      "round, action, hand, deck, place, color, play, draw, move, win, value, start, five, money, order, choose, score, high, give, face\n",
      "[u'Turn the Tide', u'Linko!', u'Last Will', u'Tichu', u'Basari', u'Edo', u'Rat-a-Tat Cat', u'Agricola', u'Patchwork', u'Pictomania', u'Macao', u'Traders of Osaka', u'Mamma Mia!', u'Colt Express', u'Power Struggle', u'Ligretto', u'Quiddler', u'Pairs', u'Ruse & Bruise', u'6 nimmt!']\n",
      "Topic 4:\n",
      "war, world, battle, power, army, unit, control, scenario, faction, force, set, empire, map, system, combat, star, base, command, fight, deck\n",
      "[u'Summoner Wars', u\"Washington's War\", u'Paths of Glory', u'Battles of Westeros', u'Sekigahara: The Unification of Japan', u'Wilderness War', u'Hannibal: Rome vs. Carthage', u'Commands & Colors: Ancients', u'Rex: Final Days of an Empire', u'Twilight Struggle', u\"Memoir '44\", u'StarCraft: The Board Game \\u2013 Brood War Expansion', u'Andean Abyss', u'Star Wars: Rebellion', u'Summoner Wars: Master Set', u'Star Wars: Imperial Assault', u'Forbidden Stars', u'Rune Age', u\"Napoleon's Triumph\", u'Star Wars: The Card Game']\n",
      "Topic 5:\n",
      "piece, place, move, opponent, square, color, tower, capture, hive, row, make, stack, white, shape, block, jump, set, project, black, abstract\n",
      "[u'Blokus', u'Gobblet', u'Blokus Trigon', u'Quarto', u'DVONN', u'TZAAR', u'The Downfall of Pompeii', u'GIPF', u'Checkers', u'Ch\\xe2teau Roquefort', u'Othello', u'Star Wars Miniatures', u'Polarity', u'Hive Pocket', u'Hive', u'Cathedral', u'Blokus Duo', u'Xiangqi', u'Khet: The Laser Game', u'Hamsterrolle']\n",
      "Topic 6:\n",
      "ship, pirate, good, island, captain, trade, crew, port, space, sea, merchant, cargo, star, sail, fleet, harbor, deliver, trader, sell, load\n",
      "[u'Black Fleet', u'Loot', u'Caribbean', u'Oltre Mare', u\"Pirate's Cove\", u'Pirates of the Spanish Main', u'Blackbeard', u'Galaxy Trucker', u'Meuterer', u'Before the Wind', u'Container', u'Traders of Osaka', u'Santiago de Cuba', u'Firefly: The Game', u'Galaxy Trucker: Anniversary Edition', u'Vasco da Gama', u'Libertalia', u'Port Royal', u'Quantum', u'Xia: Legends of a Drift System']\n",
      "Topic 7:\n",
      "dice, roll, result, set, custom, time, aside, six, brain, favor, uuml, show, men, resource, end, bag, chip, energy, take, combination\n",
      "[u'Farkle', u'Roll For It!', u\"Liar's Dice\", u'Marvel Dice Masters: Uncanny X-Men', u'Marvel Dice Masters: Avengers vs. X-Men', u'To Court the King', u'Tumblin-Dice', u'Excape', u'Ra: The Dice Game', u'Las Vegas', u'Pandemic: The Cure', u'Zombie Dice', u'LCR', u'D-Day Dice', u'Quarriors!', u'W\\xfcrfel Bohnanza', u'Roll for the Galaxy', u'Zooloretto: The Dice Game', u'Saint Malo', u'Alea Iacta Est']\n",
      "Topic 8:\n",
      "train, ticket, route, destination, map, europe, car, rail, connect, railway, railroad, country, station, track, company, bonus, collection, rout, locomotive, build\n",
      "[u'Ticket to Ride: 10th Anniversary', u'Ticket to Ride: The Card Game', u'Ticket to Ride: USA 1910', u'Ticket to Ride: Europa 1912', u'Ticket to Ride Map Collection: Volume 5 \\u2013 United Kingdom & Pennsylvania', u'Ticket to Ride Map Collection: Volume 2 \\u2013 India & Switzerland', u'Ticket to Ride: Europe', u'Ticket to Ride Map Collection: Volume 1 \\u2013 Team Asia & Legendary Asia', u'Ticket to Ride', u'Mexican Train', u'Ticket to Ride: Nordic Countries', u'Ticket to Ride: Switzerland', u'Ticket to Ride Map Collection: Volume 4 \\u2013 Nederland', u'Trains', u'Metro', u'Ticket to Ride: M\\xe4rklin', u'Empire Builder', u'Ticket to Ride Map Collection: Volume 3 \\u2013 The Heart of Africa', u'Steam', u'Rail Baron']\n",
      "Topic 9:\n",
      "city, route, road, tower, wall, population, knight, good, empire, guild, place, feature, palace, build, control, large, district, connect, improvement, house\n",
      "[u'Between Two Cities', u'Thurn and Taxis', u'Patrician', u'La Citt\\xe0', u'Masons', u'Dice City', u'BANG! Dodge City', u'Medina', u'Sentinels of the Multiverse: Rook City', u'Auf Achse', u'Ginkgopolis', u'Clash of Cultures', u'Machi Koro', u'Lords of Waterdeep', u'Thurn and Taxis: Power and Glory', u'Manhattan', u'Carcassonne', u'Carcassonne: Expansion 2 \\u2013 Traders & Builders', u'Catan: Cities & Knights', u'Maharaja: The Game of Palace Building in India']\n",
      "Topic 10:\n",
      "character, adventure, coin, ring, influence, ability, hero, face, action, villain, opponent, move, location, shadow, life, deck, lord, special, marvel, role\n",
      "[u'Coup: Rebellion G54', u'Mascarade', u'Coup', u'Star Wars: Epic Duels', u'Lord of the Rings: The Confrontation', u'Citadels', u'BattleCON: Devastation of Indines', u'The Witcher Adventure Game', u'Tragedy Looper', u'13 Dead End Drive', u'BattleCON: War of Indines', u'World of Warcraft: The Adventure Game', u'Lord of the Rings: The Confrontation', u'City of Horror', u'HeroClix', u'Gloom', u'Marvel Heroes', u'Return of the Heroes', u'Mr. Jack', u'Cthulhu Gloom']\n",
      "Topic 11:\n",
      "animal, specie, space, sheep, big, water, sound, place, party, token, farm, type, weight, park, top, scientist, bid, bar, forest, five\n",
      "[u'Evolution: The Origin of Species', u'Beasty Bar', u'Animal Upon Animal', u'Ark', u'La Isla', u'Zooloretto: The Dice Game', u'Aquaretto', u'Tales & Games: The Hare & the Tortoise', u'Fauna', u'Snorta!', u'Agricola: All Creatures Big and Small', u\"Frank's Zoo\", u\"You're Bluffing!\", u'Zooloretto', u'Dominant Species', u'Hacienda', u'Takenoko', u'Agricola: All Creatures Big and Small \\u2013 More Buildings Big and Small', u'Mondo', u'Wildlife Safari']\n"
     ]
    }
   ],
   "source": [
    "no_top_words = 20\n",
    "\n",
    "NMF_1_df = display_topics_and_titles(X_tfidf, tfidf, nmf, no_top_words, test_df['name'])\n"
   ]
  },
  {
   "cell_type": "code",
   "execution_count": 81,
   "metadata": {
    "collapsed": false
   },
   "outputs": [
    {
     "name": "stdout",
     "output_type": "stream",
     "text": [
      "\n",
      "Topics in NMF model (Frobenius norm):\n",
      "Topic #0: action, building, build, resource, round, money, worker, place, phase, move, order, land, choose, need, good, gain, collect, start, earn, allow\n",
      "Topic #1: monster, dungeon, hero, treasure, level, dragon, adventure, encounter, defeat, defeat monster, deck, quest, adventurer, acquire, spell, zombie, kill, trap, class, dark\n",
      "Topic #2: tile, place, color, tile place, place tile, adjacent, score, side, settlement, hex, road, meeples, field, tile tile, match, next, area, another, type, island\n",
      "Topic #3: deck, hand, round, color, trick, draw, pile, suit, play, discard, face, value, word, win, high, table, trump, row, discard pile, start\n",
      "Topic #4: war, battle, world, army, unit, scenario, star, faction, force, power, combat, command, deck, set, system, map, control, base, fight, wing\n",
      "Topic #5: piece, move, place, color, opponent, square, opponent piece, tower, capture, hive, row, place piece, stack, make, block, white, shape, jump, space, set\n",
      "Topic #6: dice, roll, roll dice, dice roll, set, result, custom, time, six, chip, brain, end, aside, custom dice, show, win, set aside, color, favor, score\n",
      "Topic #7: ship, pirate, good, captain, island, trade, crew, sea, port, space, merchant, cargo, star, sail, fleet, harbor, deliver, load, galaxy, combat\n",
      "Topic #8: train, ticket, route, destination, map, europe, car, rail, connect, railway, country, railroad, station, track, bonus, company, collection, rout, locomotive, double\n",
      "Topic #9: city, building, route, road, build, tower, wall, population, guild, district, feature, build city, empire, city city, knight, city state, palace, large, connect, second\n",
      "Topic #10: character, adventure, coin, ring, influence, ability, action, face, move, hero, lord ring, opponent, shadow, special ability, location, villain, deck, special, role, life\n",
      "Topic #11: animal, specie, space, sheep, big, sound, place, water, token, party, type, top, weight, farm, scientist, park, five, bid, bar, move space\n",
      "\n"
     ]
    }
   ],
   "source": [
    "nmf2 = NMF(n_components=n_components, random_state=1,\n",
    "          alpha=.1, l1_ratio=.5).fit(X_tfidf2)\n",
    "\n",
    "\n",
    "print(\"\\nTopics in NMF model (Frobenius norm):\")\n",
    "tfidf_feature_names = tfidf2.get_feature_names()\n",
    "print_top_words(nmf2, tfidf_feature_names, n_top_words)\n"
   ]
  },
  {
   "cell_type": "code",
   "execution_count": 104,
   "metadata": {
    "collapsed": false,
    "scrolled": false
   },
   "outputs": [
    {
     "name": "stdout",
     "output_type": "stream",
     "text": [
      "Topic 0:\n",
      "action, building, build, resource, round, money, worker, place, phase, move, order, land, choose, need, good, gain, collect, start, earn, allow\n",
      "[u'Edo', u'Caylus', u'Homesteaders', u'Ora et Labora', u'The Builders: Middle Ages', u'Bruxelles 1893', u'Le Havre: The Inland Port', u'Saint Petersburg', u'Le Havre', u'Harbour', u'Urban Sprawl', u'Ad Astra', u'Neuland', u'Alhambra', u'Puerto Rico', u'Saint Petersburg (second edition)', u'Imperial Settlers', u'San Juan (second edition)', u'Caylus Magna Carta', u'Tokaido']\n",
      "Topic 1:\n",
      "monster, dungeon, hero, treasure, level, dragon, adventure, encounter, defeat, defeat monster, deck, quest, adventurer, acquire, spell, zombie, kill, trap, class, dark\n",
      "[u'Thunderstone: Dragonspire', u'Super Munchkin', u'Munchkin', u'Munchkin Cthulhu', u'Munchkin Bites!', u'Munchkin Fu', u'Dungeon!', u'Star Munchkin', u'Super Dungeon Explore', u'Thunderstone', u'Dungeons & Dragons: Wrath of Ashardalon Board Game', u'Dungeons & Dragons: Castle Ravenloft Board Game', u'Munchkin Booty', u'Munchkin Zombies', u'Munchkin 6: Demented Dungeons', u'Dungeon Run', u'Dungeon Roll', u'Warhammer Quest: The Adventure Card Game', u'Descent: Journeys in the Dark', u'Munchkin Quest']\n",
      "Topic 2:\n",
      "tile, place, color, tile place, place tile, adjacent, score, side, settlement, hex, road, meeples, field, tile tile, match, next, area, another, type, island\n",
      "[u'Infinite City', u'Blockers!', u'Tantrix', u'10 Days in the USA', u'Key Harvest', u'Seeland', u'Beowulf: The Movie Board Game', u'Sushizock im Gockelwok', u'New England', u'Ingenious', u'10 Days in Europe', u'Cacao', u'Tsuro of the Seas', u'The Duke', u'Mondo', u'The Castles of Burgundy', u'Carcassonne', u'Ginkgopolis', u'10 Days in Africa', u'Rummikub']\n",
      "Topic 3:\n",
      "deck, hand, round, color, trick, draw, pile, suit, play, discard, face, value, word, win, high, table, trump, row, discard pile, start\n",
      "[u'Linko!', u'Rook', u'Turn the Tide', u'Wizard', u'Quiddler', u'Arboretum', u'Blink', u'Rage', u'Ligretto', u'The Game', u'Friday the 13th', u'The Bottle Imp', u'David & Goliath', u'Euchre', u'Circus Flohcati', u'Cribbage', u'UNO', u'Rat-a-Tat Cat', u'Skip-Bo', u'Five Crowns']\n",
      "Topic 4:\n",
      "war, battle, world, army, unit, scenario, star, faction, force, power, combat, command, deck, set, system, map, control, base, fight, wing\n",
      "[u'Summoner Wars', u\"Washington's War\", u'Battles of Westeros', u'Commands & Colors: Ancients', u'Wilderness War', u'Star Wars: X-Wing Miniatures Game', u'Sekigahara: The Unification of Japan', u'Paths of Glory', u\"Memoir '44\", u'Wings of War: Famous Aces', u'Star Wars: Imperial Assault', u\"Star Wars: The Queen's Gambit\", u'Hannibal: Rome vs. Carthage', u'Star Wars: Rebellion', u'Star Wars: The Card Game', u'Summoner Wars: Master Set', u'BattleLore (Second Edition)', u'The Battle of Five Armies', u'Star Wars: X-Wing Miniatures Game \\u2013 The Force Awakens Core Set', u\"Napoleon's Triumph\"]\n",
      "Topic 5:\n",
      "piece, move, place, color, opponent, square, opponent piece, tower, capture, hive, row, place piece, stack, make, block, white, shape, jump, space, set\n",
      "[u'Blokus', u'Gobblet', u'Blokus Trigon', u'Quarto', u'DVONN', u'TZAAR', u'The Downfall of Pompeii', u'GIPF', u'Checkers', u'Ch\\xe2teau Roquefort', u'Othello', u'Polarity', u'Hive Pocket', u'Star Wars Miniatures', u'Hive', u'Blokus Duo', u'Cathedral', u'Xiangqi', u'Khet: The Laser Game', u'Sorry!']\n",
      "Topic 6:\n",
      "dice, roll, roll dice, dice roll, set, result, custom, time, six, chip, brain, end, aside, custom dice, show, win, set aside, color, favor, score\n",
      "[u'Farkle', u'Roll For It!', u\"Liar's Dice\", u'Marvel Dice Masters: Uncanny X-Men', u'Marvel Dice Masters: Avengers vs. X-Men', u'To Court the King', u'Excape', u'Tumblin-Dice', u'Ra: The Dice Game', u'Las Vegas', u'Pandemic: The Cure', u'Zombie Dice', u'LCR', u'W\\xfcrfel Bohnanza', u'Quarriors!', u'D-Day Dice', u'Roll for the Galaxy', u'Alea Iacta Est', u'Yahtzee', u'Saint Malo']\n",
      "Topic 7:\n",
      "ship, pirate, good, captain, island, trade, crew, sea, port, space, merchant, cargo, star, sail, fleet, harbor, deliver, load, galaxy, combat\n",
      "[u'Black Fleet', u'Loot', u'Caribbean', u'Pirates of the Spanish Main', u\"Pirate's Cove\", u'Oltre Mare', u'Blackbeard', u'Galaxy Trucker', u'Meuterer', u'Firefly: The Game', u'Libertalia', u'Before the Wind', u'Galaxy Trucker: Anniversary Edition', u'Traders of Osaka', u'Vasco da Gama', u'Santiago de Cuba', u'Port Royal', u'Container', u'Quantum', u'Wooden Ships & Iron Men']\n",
      "Topic 8:\n",
      "train, ticket, route, destination, map, europe, car, rail, connect, railway, country, railroad, station, track, bonus, company, collection, rout, locomotive, double\n",
      "[u'Ticket to Ride: The Card Game', u'Ticket to Ride: 10th Anniversary', u'Ticket to Ride: USA 1910', u'Ticket to Ride: Europa 1912', u'Ticket to Ride Map Collection: Volume 5 \\u2013 United Kingdom & Pennsylvania', u'Ticket to Ride Map Collection: Volume 2 \\u2013 India & Switzerland', u'Ticket to Ride Map Collection: Volume 1 \\u2013 Team Asia & Legendary Asia', u'Ticket to Ride: Europe', u'Ticket to Ride', u'Mexican Train', u'Ticket to Ride: Nordic Countries', u'Ticket to Ride: Switzerland', u'Ticket to Ride Map Collection: Volume 4 \\u2013 Nederland', u'Trains', u'Metro', u'Ticket to Ride: M\\xe4rklin', u'Ticket to Ride Map Collection: Volume 3 \\u2013 The Heart of Africa', u'Empire Builder', u'Steam', u'Colt Express']\n",
      "Topic 9:\n",
      "city, building, route, road, build, tower, wall, population, guild, district, feature, build city, empire, city city, knight, city state, palace, large, connect, second\n",
      "[u'Between Two Cities', u'Thurn and Taxis', u'Patrician', u'La Citt\\xe0', u'Dice City', u'Masons', u'Medina', u'BANG! Dodge City', u'Sentinels of the Multiverse: Rook City', u'Auf Achse', u'Ginkgopolis', u'Clash of Cultures', u'Machi Koro', u'Lords of Waterdeep', u'Manhattan', u'Thurn and Taxis: Power and Glory', u'Maharaja: The Game of Palace Building in India', u'Catan: Cities & Knights', u'Princes of the Renaissance', u'Carcassonne: Expansion 2 \\u2013 Traders & Builders']\n",
      "Topic 10:\n",
      "character, adventure, coin, ring, influence, ability, action, face, move, hero, lord ring, opponent, shadow, special ability, location, villain, deck, special, role, life\n",
      "[u'Coup: Rebellion G54', u'Mascarade', u'Coup', u'Star Wars: Epic Duels', u'Lord of the Rings: The Confrontation', u'Tragedy Looper', u'The Witcher Adventure Game', u'BattleCON: Devastation of Indines', u'Citadels', u'13 Dead End Drive', u'BattleCON: War of Indines', u'World of Warcraft: The Adventure Game', u'City of Horror', u'Lord of the Rings: The Confrontation', u'HeroClix', u'Gloom', u'Marvel Heroes', u'Mr. Jack', u'Cthulhu Gloom', u'Return of the Heroes']\n",
      "Topic 11:\n",
      "animal, specie, space, sheep, big, sound, place, water, token, party, type, top, weight, farm, scientist, park, five, bid, bar, move space\n",
      "[u'Evolution: The Origin of Species', u'Animal Upon Animal', u'Beasty Bar', u'Ark', u'La Isla', u'Zooloretto: The Dice Game', u'Aquaretto', u'Tales & Games: The Hare & the Tortoise', u'Fauna', u'Snorta!', u\"Frank's Zoo\", u'Agricola: All Creatures Big and Small', u\"You're Bluffing!\", u'Zooloretto', u'Dominant Species', u'Hacienda', u'Takenoko', u'Agricola: All Creatures Big and Small \\u2013 More Buildings Big and Small', u'Mondo', u'Wildlife Safari']\n"
     ]
    }
   ],
   "source": [
    "NMF_2_df = display_topics_and_titles(X_tfidf2, tfidf2, nmf2, no_top_words, test_df['name'])"
   ]
  },
  {
   "cell_type": "markdown",
   "metadata": {},
   "source": [
    "###  Try k means clustering:\n",
    "\n",
    "http://brandonrose.org/clustering"
   ]
  },
  {
   "cell_type": "markdown",
   "metadata": {},
   "source": [
    "K means clustering - 11 clusters"
   ]
  },
  {
   "cell_type": "code",
   "execution_count": 106,
   "metadata": {
    "collapsed": false
   },
   "outputs": [
    {
     "name": "stdout",
     "output_type": "stream",
     "text": [
      "CPU times: user 8.67 s, sys: 1.48 s, total: 10.1 s\n",
      "Wall time: 55.3 s\n"
     ]
    }
   ],
   "source": [
    "from sklearn.cluster import KMeans\n",
    "\n",
    "num_clusters = 11\n",
    "\n",
    "km = KMeans(n_clusters=num_clusters)\n",
    "\n",
    "%time km.fit(X_tfidf2)\n",
    "\n",
    "clusters = km.labels_.tolist()"
   ]
  },
  {
   "cell_type": "code",
   "execution_count": 93,
   "metadata": {
    "collapsed": false
   },
   "outputs": [],
   "source": [
    "from sklearn.externals import joblib\n",
    "\n",
    "#uncomment the below to save your model \n",
    "#since I've already run my model I am loading from the pickle\n",
    "\n",
    "#joblib.dump(km,  'doc_cluster_8.pkl')\n",
    "\n",
    "#km = joblib.load('doc_cluster_8.pkl')\n",
    "#clusters = km.labels_.tolist()"
   ]
  },
  {
   "cell_type": "code",
   "execution_count": 94,
   "metadata": {
    "collapsed": false
   },
   "outputs": [
    {
     "data": {
      "text/plain": [
       "1600"
      ]
     },
     "execution_count": 94,
     "metadata": {},
     "output_type": "execute_result"
    }
   ],
   "source": [
    "len(clusters)"
   ]
  },
  {
   "cell_type": "code",
   "execution_count": 95,
   "metadata": {
    "collapsed": false
   },
   "outputs": [
    {
     "data": {
      "text/plain": [
       "1600"
      ]
     },
     "execution_count": 95,
     "metadata": {},
     "output_type": "execute_result"
    }
   ],
   "source": [
    "len(titles)"
   ]
  },
  {
   "cell_type": "code",
   "execution_count": 107,
   "metadata": {
    "collapsed": false
   },
   "outputs": [],
   "source": [
    "titles = test_df['name'].tolist()\n",
    "\n",
    "games = { 'title': titles, 'cluster': clusters}\n",
    "\n",
    "frame = pd.DataFrame(games, index = [clusters] , columns = ['title','cluster'])"
   ]
  },
  {
   "cell_type": "code",
   "execution_count": 108,
   "metadata": {
    "collapsed": false
   },
   "outputs": [
    {
     "data": {
      "text/plain": [
       "0     580\n",
       "7     191\n",
       "3     156\n",
       "1     150\n",
       "5     102\n",
       "8      93\n",
       "4      87\n",
       "10     86\n",
       "6      77\n",
       "2      55\n",
       "9      23\n",
       "Name: cluster, dtype: int64"
      ]
     },
     "execution_count": 108,
     "metadata": {},
     "output_type": "execute_result"
    }
   ],
   "source": [
    "frame['cluster'].value_counts() #number of films per cluster (clusters from 0 to 4)"
   ]
  },
  {
   "cell_type": "code",
   "execution_count": 135,
   "metadata": {
    "collapsed": false,
    "scrolled": false
   },
   "outputs": [
    {
     "name": "stdout",
     "output_type": "stream",
     "text": [
      "Top terms per cluster:\n",
      "\n",
      "Cluster 0 words:[u'deck', u'team', u'power', u'move', u'set', u'world', u'action', u'base', u'place', u'control']\n",
      "\n",
      "\n",
      "Cluster 0 titles: Pandemic, Dominion, Ticket to Ride, Small World, Power Grid, Love Letter, Ticket to Ride: Europe, Codenames, Bohnanza, Forbidden Island, The Resistance, Battlestar Galactica, Hanabi, Dominion: Intrigue, Dead of Winter: A Crossroads Game, Magic: The Gathering, Betrayal at House on the Hill, Android: Netrunner, Shadows over Camelot, BANG!, Monopoly, RoboRally, Mage Knight Board Game, Pandemic Legacy: Season 1, Five Tribes, Caverna: The Cave Farmers, Smash Up, The Resistance: Avalon, Guillotine, Acquire, Forbidden Desert, No Thanks!, Flash Point: Fire Rescue, Village, Survive: Escape from Atlantis!, Tikal, Castles of Mad King Ludwig, Clue, Pandemic: On the Brink, Fluxx, Battle Line, Mysterium, Formula D, Catan: Seafarers, Samurai, Go, One Night Ultimate Werewolf, Chaos in the Old World, Zombicide, Through the Desert, Shogun, Qwirkle, T.I.M.E Stories, Scotland Yard, Dominion: Prosperity, Wits & Wagers, Gloom, Railways of the World, Kemet, Sherlock Holmes Consulting Detective: The Thames Murders & Other Cases, Letters from Whitechapel, Fresco, Ascension: Deckbuilding Game, Ca$h 'n Gun$, Lewis & Clark, Race for the Galaxy: The Gathering Storm, Blood Bowl: Team Manager – The Card Game, Concept, Ticket to Ride: USA 1910, Ticket to Ride: Nordic Countries, Jungle Speed, SET, Ticket to Ride: Märklin, Crokinole, King of Tokyo: Power Up!, Taboo, The Game of Life, Evolution, The Werewolves of Miller's Hollow, Formula Dé, 1960: The Making of the President, Colosseum, Telestrations, Red November, Mystery of the Abbey, Dominion: Alchemy, Cranium, Loopin' Louie, Niagara, K2, Legendary Encounters: An Alien Deck Building Game, Pit, Exploding Kittens, Condottiere, Colossal Arena, A Few Acres of Snow, Once Upon a Time: The Storytelling Card Game, BANG! The Bullet!, Spot it!, Trains, Mille Bornes, Augustus, Risk 2210 A.D., Finca, Cleopatra and the Society of Architects, Above and Below, Skull, Risk Legacy, Munchkin 2: Unnatural Axe, Airlines Europe, YINSH, Abyss, Boggle, Kill Doctor Lucky, Pictionary, Power Grid: Factory Manager, Mr. Jack Pocket, Archipelago, Elysium, Codenames: Pictures, Smash Up: Awesome Level 9000, Phase 10, Blue Moon, Race for the Galaxy: Rebel vs Imperium, XCOM: The Board Game, Louis XIV, Zombie Fluxx, Small World: Grand Dames of Small World, Snow Tails, Lancaster, La Granja, Rattus, Connect Four, Dominion: Cornucopia, Automobile, Battlestar Galactica: Pegasus Expansion, Spartacus: A Game of Blood & Treachery, Paperback, Zombicide: Black Plague, Santorini, Abalone, Chrononauts, Doom: The Boardgame, Fury of Dracula (third edition), Sequence, Rococo, Die Macher, Small World: Be Not Afraid..., Blood Bowl (Third Edition), Get Bit!, Morels, Junta, Mastermind, Say Anything, Hoity Toity, Wasabi!, Dominion: Hinterlands, High Society, Quoridor, Illuminati:  Deluxe Edition, Primordial Soup, Mission: Red Planet (Second Edition), Winner's Circle, The Adventurers: The Temple of Chac, Evo, Captain Sonar, Felix: The Cat in the Sack, Ticket to Ride: Switzerland, Imperial 2030, China, Machi Koro: Harbor, Dominion: Dark Ages, Balderdash, Flick 'em Up!, Tribune: Primus Inter Pares, Onirim, Ghost Blitz, Sushi Go Party!, Tajemnicze Domostwo, Domaine, Caesar & Cleopatra, Ave Caesar, San Marco, Imhotep, Werewolf, Schotten Totten, Myrmes, Kingsburg: To Forge a Realm, Monty Python Fluxx, Ticket to Ride Map Collection: Volume 1 – Team Asia & Legendary Asia, The Gallerist, World Without End, Mission: Red Planet, Ticket to Ride: 10th Anniversary, Room 25, Cosmic Encounter, Secret Hitler, Vinhos, Britannia, Karuba, Wyatt Earp, Fleet, Potion Explosion, Ticket to Ride Map Collection: Volume 2 – India & Switzerland, Revolution!, Ticket to Ride: The Card Game, Specter Ops, Villa Paletti, Nightfall, Tinners' Trail, Warrior Knights, Star Fluxx, Family Business, Hammer of the Scots, Shear Panic, The Republic of Rome, 1830: Railways & Robber Barons, Hawaii, Android, Witch's Brew, Sorry! Sliders, ZÈRTZ, Exploding Kittens: NSFW Deck, Dominion: Black Market Promo Card, Guildhall, Snowdonia, Nuns on the Run, Catan: Seafarers – 5-6 Player Extension, Pachisi, Factory Fun, Ticket to Ride: Europa 1912, Android: Infiltration, Alhambra: Big Box, Stronghold, Yggdrasil, Power Grid: The New Power Plant Cards, I'm the Boss!, Dominion: Envoy Promo Card, Legacy: The Testament of Duke de Crecy, Saboteur 2 (expansion-only editions), Web of Power, Ultimate Werewolf: Ultimate Edition, Blood Bowl: Living Rulebook, Catan: Cities & Knights – 5-6 Player Extension, Lifeboats, Power Grid: The First Sparks, Mystic Vale, Hearts, Aton, Advanced Squad Leader, Lords of Xidit, CO₂, The Bloody Inn, Battlestar Galactica: Exodus Expansion, Scoville, Bootleggers, Guess Who?, Mystery Rummy: Jack the Ripper, Catan: Traders & Barbarians, Aladdin's Dragons, The Magic Labyrinth, Power Grid: France/Italy, Zombicide Season 2: Prison Outbreak, Celestia, Coup: Reformation, Pandemic: In the Lab, Small World: Tales and Legends, Power Grid: Benelux/Central Europe, Kanban: Automotive Revolution, Ascension: Storm of Souls, Inis, Conquest of the Empire, Smash Up: Science Fiction Double Feature, Space Cadets, In the Shadow of the Emperor, Mall of Horror, Epic Card Game, Twister, Fjords, T.I.M.E Stories: The Marcy Case, Samurai Spirit, Krosmaster: Arena, Call of Cthulhu: The Card Game, Panic Station, Loony Quest, A la carte, Dragon's Gold, Age of Industry, Valley of the Kings, Snakes and Ladders, Trickerion: Legends of Illusion, One Night Ultimate Werewolf Daybreak, Yomi, Mage Knight Board Game: The Lost Legion, Yedo, Galaxy Trucker: The Big Expansion, Tammany Hall, A Study in Emerald, Nuclear War, Smash Up: The Obligatory Cthulhu Set, Roads & Boats, Freedom: The Underground Railroad, Operation, Puerto Rico: Expansion I – New Buildings, Kremlin, Black Stories, Boomtown, Tic-Tac-Toe, Shadowrun: Crossfire, Power Grid: China/Korea, Raptor, The Rose King, Lunch Money, Inkognito, Mr. Jack in New York, Beyond Balderdash, Campaign Manager 2008, Pentago, Kingdomino, Terra Mystica: Fire & Ice, The Scepter of Zavandor, Illuminati, Ninjato, Cthulhu Dice, The Awful Green Things From Outer Space, Mystery Express, Pick Picknic, Liberté, A Game of Thrones: The Card Game (Second Edition), Two Rooms and a Boom, Wooly Bully, Coconuts, Portobello Market, Thunder Alley, Sleuth, Friedrich, Shakespeare, Arctic Scavengers, Dead of Winter: The Long Night, Löwenherz, Nippon, GiftTRAP, Intrigue, Risk (Revised Edition), Tally Ho!, Medieval Academy, Zombies!!! 2: Zombie Corps(e), Pokémon Trading Card Game, On the Underground, Samurai Sword, The Pillars of the Earth: Expansion Set, Beowulf: The Legend, We Didn't Playtest This At All, Netrunner, Giants, The Settlers of the Stone Age, Escape from Colditz, Strasbourg, Funny Friends, Stephenson's Rocket, Dark Moon, Risk: Godstorm, Last Night on Earth: Growing Hunger, Dominion: Guilds, The Bridges of Shangri-La, Isla Dorada, Lifeboat, Ticket to Ride Map Collection: Volume 5 – United Kingdom & Pennsylvania, Queen's Necklace, Stone Age: The Expansion, Pueblo, Power Grid Deluxe: Europe/North America, The Castle of the Devil, Mottainai, Aye, Dark Overlord! The Red Box, Pandemic: Contagion, Space Empires: 4X, Catch Phrase!, Twixt, Good Cop Bad Cop, Kolejka, Smash Up: Pretty Pretty Smash Up, XenoShyft: Onslaught, Pergamon, Mouse Trap, Rory's Story Cubes, Smash Up: Monster Smash, Vampire: The Eternal Struggle, Himalaya, König von Siam, Hellas, Master Labyrinth, Harry Potter: Hogwarts Battle, Baseball Highlights: 2045, Give Me the Brain!, Legendary: Fantastic Four, Quo Vadis?, Long Shot, A Game of Thrones: A Clash of Kings Expansion, Battleball, Cthulhu Fluxx, Gang of Four, Royal Palace, Adrenaline, King Me!, Um Reifenbreite, Careers, Tzolk'in: The Mayan Calendar – Tribes & Prophecies, Nothing Personal, Battle Sheep, R-Eco, Mafia de Cuba, Sylla, Sid Meier's Civilization: The Board Game – Fame and Fortune, Pay Day, 221B Baker Street: The Master Detective Game, Evo (second edition), Ticket to Ride Map Collection: Volume 3 – The Heart of Africa, Compounded, Memoir '44: Terrain Pack, Puzzle Strike, Enchanted Forest, Pastiche, Steel Driver, Memory, Cockroach Salad, 2 de Mayo, Arena: Roma II, Artifacts, Inc., League of Six, Pandemic Iberia, Valdora, Nefertiti, Verräter, Palastgeflüster, Formula Motor Racing, Railways of Europe, Zombies!!! 3:  Mall Walkers, Escape from the Aliens in Outer Space, Kodama: The Tree Spirits, Atlantic Star, Nefarious, Doomtown: Reloaded, Helvetia, Ice Cool, Cosmic Encounter: Cosmic Conflict, Duel of Ages Set 1: Worldspanner, Lost Valley, The Boss, B-17: Queen of the Skies, Relic Runners, Drako, Ribbit, 1989: Dawn of Freedom, Hungry Hungry Hippos, Elk Fest, Akrotiri, Paris Connection, Arcana, Ivanhoe, Millennium Blades, The Adventurers: The Pyramid of Horus, Smash Up: The Big Geeky Box, Sleeping Queens, The Networks, Tuscany: Expand the World of Viticulture, Super Motherload, Cyclades: Hades, Waterworks, Necromunda, Pick Up Sticks, Bingo, Castle, Not Alone, De Vulgari Eloquentia, Anachrony, Witness, StreetSoccer, Coin Age, The End of the Triumvirate, Dracula, Drum Roll, Evolution: Climate, Council of Verona, Resident Evil Deck Building Game, BANG! High Noon, Poo: The Card Game, Argent: The Consortium, Attila, Show Manager, Seasons: Enchanted Kingdom, La Boca, Kings & Things, Lord of the Fries, Raj, Scarab Lords, Level 7 [Omega Protocol], Dream Home, MindTrap, Bazaar, Blood Bowl: Team Manager – The Card Game – Sudden Death, The Pursuit of Happiness, PitchCar Extension, Legendary Encounters: A Predator Deck Building Game, King's Breakfast, Take 5!, Zombie in my Pocket, Fast Flowing Forest Fellers, Industrial Waste, Aquarius, The Cave, Circus Maximus, Ground Floor, Unexploded Cow, Sitting Ducks Gallery, En Garde, Dragon Slayer, Rail Baron, Eat Poop You Cat, Cadwallon: City of Thieves, Sword of Rome, Mordheim: City of the Damned, Outburst!, High Frontier, Zombicide Season 3: Rue Morgue, Mord im Arosa, Cuba Libre, Puzzle Strike (Third Edition), Zombie 15', Tanto Cuore, Fabled Fruit, Power Grid: Brazil/Spain & Portugal, Streetcar, Wicked Witches Way, Innovation: Echoes of the Past, Things..., Tiki Topple, Chronicle, Duplik, 12 Thieves, Run, Fight, or Die!, Battlestar Galactica: Daybreak Expansion, Nottingham, Senji, Wars of the Roses: Lancaster vs. York, Midnight Party, Subbuteo, Cthulhu Gloom, Catan: Portable Edition, Ice Flow, WildLife, Kittens in a Blender, Machi Koro: Millionaire's Row, A Study in Emerald (second edition), Sons of Anarchy: Men of Mayhem, My Village, Automobiles, RoboRally: Armed and Dangerous, California, Giganten, Agents of SMERSH, Survive: Escape from Atlantis! 5-6 Player Mini Expansion, The Agents, BANG! A Fistful of Cards, Fief: France 1429, Magnum Sal, Mexican Train, Istanbul: Mocha & Baksheesh, The Great Fire of London 1666, Small World: Necromancer Island, Alcatraz: The Scapegoat, El Caballero, Falling, Scene It? Movie, 13 Dead End Drive, Divinare, Kreta, Knightmare Chess, Tyrants of the Underdark, Gloom: Unhappy Homes,\n",
      "\n",
      "Cluster 1 words:[u'round', u'hand', u'action', u'deck', u'trick', u'place', u'play', u'suit', u'pile', u'score']\n",
      "\n",
      "\n",
      "Cluster 1 titles: Agricola, Race for the Galaxy, Dixit, Splendor, Lost Cities, Patchwork, El Grande, Sushi Go!, Saboteur, For Sale, Apples to Apples, Cards Against Humanity, Coloretto, UNO, The Princes of Florence, Saint Petersburg, Colt Express, 6 nimmt!, Modern Art, Brass: Lancashire, Tichu, Tokaido, Spyfall, Dixit Odyssey, Notre Dame, Alchemists, Space Hulk: Death Angel – The Card Game, In the Year of the Dragon, Ca$h 'n Guns (Second Edition), Fairy Tale, At the Gates of Loyang, Poker, Last Will, Bora Bora, Red7, Cribbage, Targi, Kahuna, Scattergories, Chicago Express, The Grizzled, Medici, Monopoly Deal Card Game, The Great Dalmuti, Wizard, Dixit Quest, Balloon Cup, Timeline: Inventions, Diamant, Mombasa, Mamma Mia!, Dream Factory, Clans, AquaSphere, Tides of Time, Cockroach Poker, Union Pacific, Time's Up!, Skip-Bo, Parade, Arboretum, Broom Service, Mykerinos, The Game, Dixit: Journey, Love Letter: Batman, Friday the 13th, Odin's Ravens, Diamonds, Haggis, Luna, Turn the Tide, Hera and Zeus, Coal Baron, Race for the Galaxy: The Brink of War, Onirim (second edition), Bruxelles 1893, Trans Europa, Timeline: Historical Events, Deep Sea Adventure, Bridge, Ad Astra, Stockpile, Linko!, River Dragons, Famiglia, Dead Man's Draw, Timeline: Diversity, Money!, Quiddler, The Bottle Imp, Ligretto, Timeline: Discoveries, Sticheln, Cards Against Humanity: First Expansion, Time's Up! Title Recall!, Vanuatu, Flip City, Lost Legacy: The Starship, Power Struggle, Rat-a-Tat Cat, Rook, Pax Porfiriana, Circus Flohcati, Pictomania, Rack-O, Timeline: Music & Cinema, Sluff Off!, Copycat, Cottage Garden, Hero Realms, Cards Against Humanity: Second Expansion, Euchre, Bezzerwizzer, Iliad, Spades, Snake Oil, Mu & more, Halli Galli, Razzia!, Dixit 3: Journey, Cthulhu Realms, Hab & Gut, Ruse & Bruise, Blink, Founding Fathers, Basari, Terra Nova, Dixit: Origins, Five Crowns, BraveRats, World's Fair 1893, The Bucket King, Masters Gallery, Merchants of Amsterdam, Anomia, David & Goliath, Edel, Stein & Reich, Greed, Saint Petersburg: New Society & Banquet Expansion, Rage, The Staufer Dynasty, Cards Against Humanity: Third Expansion, Pairs, Masterpiece, Space Beans, Nyet!, Australia, Wits & Wagers Family, Murano,\n",
      "\n",
      "Cluster 2 words:[u'piece', u'tower', u'move', u'place', u'opponent', u'color', u'opponent piece', u'capture', u'hive', u'square']\n",
      "\n",
      "\n",
      "Cluster 2 titles: Chess, Hive, Blokus, Stratego, PitchCar, Jenga, Ricochet Robots, The Downfall of Pompeii, Ubongo, Checkers, Othello, Kalah, Keltis, Carcassonne: The Tower, Sorry!, Blokus Duo, Tash-Kalar: Arena of Legends, Quarto, DVONN, Onitama, Blokus 3D, Bausack, Hive Pocket, Chinese Checkers, Carolus Magnus, Candy Land, Lost Cities: The Board Game, Cathedral, FITS, Click Clack Lumberjack, Blokus Trigon, That's Life!, GIPF, Khet: The Laser Game, Pente, Hive: The Mosquito, Trouble, Asara, TZAAR, Château Roquefort, Piece o' Cake, Zendo, Ingenious: Travel Edition, PitchCar Mini, Hamsterrolle, Polarity, Hive: The Ladybug, Ugg-Tect, Xiangqi, Coda, Kamisado, Star Wars Miniatures, PÜNCT, Gobblet, Patrician,\n",
      "\n",
      "Cluster 3 words:[u'war', u'battle', u'unit', u'army', u'star', u'wing', u'command', u'force', u'scenario', u'combat']\n",
      "\n",
      "\n",
      "Cluster 3 titles: Twilight Struggle, Eclipse, Memoir '44, Cosmic Encounter, Star Realms, A Game of Thrones: The Board Game (Second Edition), Star Wars: X-Wing Miniatures Game, Twilight Imperium (Third Edition), Blood Rage, Star Wars: Imperial Assault, Diplomacy, A Game of Thrones (first edition), War of the Ring (first edition), Axis & Allies, Summoner Wars: Master Set, BattleLore, Star Wars: Rebellion, Nexus Ops, Imperial, Heroscape Master Set: Rise of the Valkyrie, Commands & Colors: Ancients, War of the Ring (Second Edition), StarCraft: The Board Game, Mage Wars Arena, Space Hulk (third edition), A Game of Thrones: The Card Game, Axis & Allies, Among the Stars, Warhammer: Invasion, Summoner Wars, Mechs vs. Minions, Dune, Wings of War: Famous Aces, Combat Commander: Europe, Hannibal: Rome vs. Carthage, Ikusa, Star Wars: The Card Game, Twilight Imperium (Third Edition): Shattered Empire, Forbidden Stars, Gears of War: The Board Game, Wiz-War (eighth edition), Paths of Glory, Rune Age, BattleLore (Second Edition), Tide of Iron, Struggle of Empires, Cold War: CIA vs KGB, Epic Spell Wars of the Battle Wizards: Duel at Mt. Skullzfyre, Core Worlds, Wallenstein (first edition), Rex: Final Days of an Empire, Battle Cry, Space Hulk, Labyrinth: The War on Terror, 2001 – ?, Here I Stand, Earth Reborn, BattleTech, Conflict of Heroes: Awakening the Bear! – Russia 1941-42, Tannhäuser, Star Wars: Armada, Star Wars: Epic Duels, Squad Leader, Cry Havoc, Cosmic Encounter: Cosmic Incursion, Kingmaker, Tempus, Warhammer, Battles of Westeros, 1775: Rebellion, Memoir '44: Eastern Front, GOSU, Sekigahara: The Unification of Japan, Ogre, Axis & Allies: Europe, WarCraft: The Board Game, Summoner Wars: Phoenix Elves vs Tundra Orcs, Fortress America, Cthulhu Wars, Space Crusade, Risk: Star Wars Edition, Twilight Imperium (Third Edition): Shards of the Throne, Summoner Wars: Guild Dwarves vs Cave Goblins, Warhammer 40,000: Conquest, Pixel Tactics, Manoeuvre, Heroscape Master Set: Swarm of the Marro, Star Wars Customizable Card Game, Warhammer 40,000, Catan Card Game: Expansion Set, Advanced Squad Leader: Starter Kit #1, Maria, Washington's War, Star Wars: The Queen's Gambit, Car Wars, Ascending Empires, Up Front, Star Realms: Colony Wars, Ambush!, Commands & Colors: Napoleonics, Star Wars: X-Wing Miniatures Game – TIE Advanced Expansion Pack, Star Wars: X-Wing Miniatures Game – Millennium Falcon Expansion Pack, 1812: The Invasion of Canada, Perikles, Axis & Allies: Pacific, Battle Masters, Star Wars: Destiny, Attack!, A House Divided, Wings of War: Watch Your Back!, Axis & Allies Anniversary Edition, Axis & Allies: D-Day, Heroscape Marvel: The Conflict Begins, Memoir '44: Pacific Theater, Star Wars: X-Wing Miniatures Game – Y-Wing Expansion Pack, The Battle for Hill 218, Star Trek: Attack Wing, Axis & Allies: 1942, Rise and Decline of the Third Reich, Magic: The Gathering – Arena of the Planeswalkers, Memoir '44: Winter/Desert Board Map, Napoleon's Triumph, Legend of the Five Rings, Monopoly: Star Wars, Star Wars: X-Wing Miniatures Game – X-Wing Expansion Pack, Star Wars: X-Wing Miniatures Game – Slave I Expansion Pack, The Battle of Five Armies, PanzerBlitz, Quartermaster General, Small World: Realms, Warhammer: Diskwars, Sun Tzu, Star Wars: X-Wing Miniatures Game – The Force Awakens Core Set, Wilderness War, Horus Heresy, Conquest of Planet Earth: The Space Alien Game, Conflict of Heroes: Storms of Steel! – Kursk 1943, Fire in the Lake, Duel in the Dark, Star Realms: Crisis – Bases & Battleships, Panzer Leader, War of the Ring: Battles of the Third Age, Star Wars: X-Wing Miniatures Game – TIE Fighter Expansion Pack, Theseus: The Dark Orbit, StarCraft: The Board Game – Brood War Expansion, Dust, Star Wars: X-Wing Miniatures Game – A-Wing Expansion Pack, Churchill, Star Wars: X-Wing Miniatures Game – TIE Interceptor Expansion Pack, Star Trek: Expeditions, Risk: Star Wars – The Clone Wars Edition, Star Realms: Crisis – Events, Wings of War: Burning Drachens, Andean Abyss, Star Realms: Crisis – Fleets & Fortresses, Heroes of Normandie, BattleCON: War of Indines,\n",
      "\n",
      "Cluster 4 words:[u'monster', u'dungeon', u'hero', u'treasure', u'level', u'villain', u'deck', u'defeat', u'encounter', u'dragon']\n",
      "\n",
      "\n",
      "Cluster 4 titles: Munchkin, Descent: Journeys in the Dark (Second Edition), Legendary: A Marvel Deck Building Game, Last Night on Earth: The Zombie Game, Sentinels of the Multiverse, Dungeon Lords, Descent: Journeys in the Dark, Castle Panic, Thunderstone, Dungeon Petz, King of New York, Tobago, Incan Gold, Boss Monster: The Dungeon Building Card Game, Lords of Waterdeep: Scoundrels of Skullport, Dungeons & Dragons: Castle Ravenloft Board Game, Fearsome Floors, Terror in Meeple City, Dungeon Roll, Welcome to the Dungeon, Dungeon Twister, Arcadia Quest, The Red Dragon Inn, Defenders of the Realm, Dungeons & Dragons: Wrath of Ashardalon Board Game, Thunderstone Advance: Towers of Ruin, Cutthroat Caverns, DC Comics Deck-Building Game, Dungeon Fighter, Munchkin 3: Clerical Errors, Munchkin Cthulhu, A Touch of Evil: The Supernatural Game, Star Munchkin, Legendary: Dark City, King of Tokyo: Halloween, Warhammer Quest: The Adventure Card Game, Cave Troll, Munchkin Quest, DungeonQuest (third edition), Archaeology: The Card Game, Catacombs, Dungeon!, Ascension: Return of the Fallen, Munchkin 4: The Need for Steed, Munchkin Bites!, Thunderstone: Dragonspire, DungeonQuest, Dungeoneer: Tomb of the Lich Lord, Marvel Heroes, Super Dungeon Explore, Monsters Menace America, Super Munchkin, Munchkin Zombies, The Red Dragon Inn 2, Legendary: Paint the Town Red, Descent: The Well of Darkness, Dominion: Stash Promo Card, Warhammer Quest, Kingdom Death: Monster, Munchkin Fu, Thunderstone: Wrath of the Elements, Legendary: Guardians of the Galaxy, Legendary: Villains – A Marvel Deck Building Game, Zombicide: Toxic City Mall, World of Warcraft Trading Card Game, Sentinels of the Multiverse: Shattered Timelines, Cheaty Mages!, Sentinels of the Multiverse: Rook City, Descent: The Altar of Despair, Munchkin Booty, Wiz-War, Munchkin 5: De-Ranged, Talisman (Revised 4th Edition): The Dungeon Expansion, The Others, Boss Monster 2: The Next Level, Munchkin 6: Demented Dungeons, Dungeon Run, Boss Monster: Tools of Hero-Kind, Descent: Journeys in the Dark (Second Edition) – Lair of the Wyrm, Ticket to Ride: Alvin & Dexter, Treasure Hunter, Myth, Dungeons & Dragons: The Fantasy Adventure Board Game, Thunderstone: Doomgate Legion, Tomb, Dungeons & Dragons: Conquest of Nerath Board Game, Star Realms: Crisis – Heroes,\n",
      "\n",
      "Cluster 5 words:[u'tile', u'place', u'city', u'color', u'score', u'tile place', u'place tile', u'move', u'road', u'settlement']\n",
      "\n",
      "\n",
      "Cluster 5 titles: Catan, Carcassonne, The Castles of Burgundy, Tigris & Euphrates, Scrabble, Carcassonne: Expansion 1 – Inns & Cathedrals, Ra, Hey, That's My Fish!, Tsuro, Ghost Stories, Ingenious, Carcassonne: Expansion 2 – Traders & Builders, Keyflower, Escape: The Curse of the Temple, Neuroshima Hex!, Trajan, Carcassonne: Hunters and Gatherers, Isle of Skye: From Chieftain to King, Carcassonne: The River, Rummikub, Thebes, Glen More, Labyrinth, Vikings, Blue Moon City, Elfenland, Pickomino, Carcassonne: The Castle, Taluva, Chinatown, Bananagrams, Quadropolis, Mahjong, Between Two Cities, Metro, Reef Encounter, Lanterns: The Harvest Festival, Dominoes, Santiago, Cacao, Kingdoms, Carcassonne: The River II, Carcassonne: The City, Ginkgopolis, Carcassonne: King & Scout, Tsuro of the Seas, Carcassonne: Expansion 5 – Abbey & Mayor, Carcassonne: The Count of Carcassonne, Burgle Bros., The Duke, Gulo Gulo, Drakon (third edition), The Little Prince: Make Me a Planet, 7 Wonders: Babel, Upwords, Chicken Cha Cha Cha, Tongiaki: Journey into the Unknown, Mondo, Take it Easy!, O Zoo le Mio, My First Carcassonne, Café International, Carcassonne: South Seas, Carcassonne: The Discovery, Indigo, Sushizock im Gockelwok, New World: A Carcassonne Game, Trias, Five Tribes: The Artisans of Naqala, Great Wall of China, Princes of the Renaissance, Carcassonne: Bridges, Castles, and Bazaars, New England, Entdecker: Exploring New Horizons, 10 Days in Africa, 10 Days in the USA, Word on the Street, Blockers!, Hermagor, Infinite City, Gheos, Code 777, Kingdom Builder: Nomads, 10 Days in Europe, Conan, Tri-Ominos, Qin, Atlantis, Aquädukt, String Railway, Key Harvest, Tantrix, Ghost Stories: White Moon, Wacky Wacky West, Seeland, Aqua Romana, The Ark of the Covenant, Beowulf: The Movie Board Game, Carcassonne: 10 Year Special Edition, Maori, Alhambra: The Vizier's Favor, Ta Yü,\n",
      "\n",
      "Cluster 6 words:[u'dice', u'roll', u'roll dice', u'dice roll', u'resource', u'color', u'place', u'building', u'action', u'set']\n",
      "\n",
      "\n",
      "Cluster 6 titles: King of Tokyo, Risk, Kingsburg, Roll for the Galaxy, Seasons, Zombies!!!, Camel Up, Zombie Dice, Quarriors!, Alien Frontiers, BANG! The Dice Game, Roll Through the Ages: The Bronze Age, Liar's Dice, Can't Stop, The Voyages of Marco Polo, Backgammon, Yahtzee, Trivial Pursuit, Tiny Epic Galaxies, Pandemic: The Cure, Claustrophobia, Dice Town, Las Vegas, Marvel Dice Masters: Avengers vs. X-Men, Qwixx, Roma, Pass the Pigs, Blueprints, Chez Geek, Grand Austria Hotel, CV, Catan Dice Game, Hare & Tortoise, To Court the King, Risk: The Lord of the Rings, Champions of Midgard, Age of War, Marvel Dice Masters: Uncanny X-Men, D-Day Dice, Steampunk Rally, Tumblin-Dice, Discoveries, Heimlich & Co., FUSE, Alea Iacta Est, Martian Dice, Airships, Star Trek: Catan, Ra: The Dice Game, Marrakech, Cloud 9, Quarriors! Quarmageddon, Rallyman, Zombie Dice 2: Double Feature, Quelf, Frag, Dancing Eggs, Powerboats, Quarriors! Rise of the Demons, The Oracle of Delphi, Roll for the Galaxy: Ambition, Favor of the Pharaoh, Buffy the Vampire Slayer: The Game, Machi Koro: Deluxe Edition, Hostage Negotiator, Farkle, Roll For It!, Saint Malo, Würfel Bohnanza, Excape, Signorie, Creationary, Cube Quest, Valeria: Card Kingdoms, Kingsport Festival, LCR, Livingstone,\n",
      "\n",
      "Cluster 7 words:[u'building', u'build', u'city', u'resource', u'worker', u'civilization', u'action', u'wonder', u'empire', u'money']\n",
      "\n",
      "\n",
      "Cluster 7 titles: 7 Wonders, Citadels, Stone Age, Lords of Waterdeep, Terra Mystica, Caylus, Alhambra, 7 Wonders Duel, Tzolk'in: The Mayan Calendar, Machi Koro, Through the Ages: A Story of Civilization, Scythe, Thurn and Taxis, Suburbia, Kingdom Builder, The Pillars of the Earth, Catan: Cities & Knights, Imperial Settlers, Cyclades, Sid Meier's Civilization: The Board Game, Catan: 5-6 Player Extension, Troyes, Catan Card Game, Innovation, Glory to Rome, Concordia, Biblios, 7 Wonders: Leaders, Russian Railroads, Age of Empires III: The Age of Discovery, Terraforming Mars, Orléans, Hansa Teutonica, Nations, Steam, Endeavor, Ora et Labora, Eminent Domain, Amun-Re, Bruges, Through the Ages: A New Story of Civilization, Yspahan, Torres, Discworld: Ankh-Morpork, 7 Wonders: Cities, The Manhattan Project, TransAmerica, Age of Steam, Taj Mahal, Civilization, Viticulture, Attika, Glass Road, Euphoria: Build a Better Dystopia, Carson City, Citadels:  The Dark City, London, Vegas Showdown, Viticulture Essential Edition, Eight-Minute Empire, Great Western Trail, Food Chain Magnate, Belfort, Deus, La Città, Spyrium, Tiny Epic Kingdoms, Maharaja: The Game of Palace Building in India, Caylus Magna Carta, Lords of Vegas, Egizia, Antike, The Speicherstadt, Steam Park, History of the World, Clash of Cultures, Amerigo, A Feast for Odin, Arkadia, Vinci, BANG! Dodge City, The Rivals for Catan, Manhattan, Metropolys, 7 Wonders: Wonder Pack, Fields of Arle, Viceroy, Rhino Hero, Mexica, Leonardo da Vinci, Babel, New York 1901, Homesteaders, Java, Rialto, Eight-Minute Empire: Legends, Elasund: The First City, Age of Mythology: The Boardgame, Advanced Civilization, Mare Nostrum, Oregon, Harbour, The Palaces of Carrara, Keythedral, Hyperborea, Nations: The Dice Game, A Castle for All Seasons, Amyitis, The Builders: Middle Ages, Medina, Havana, Empire Builder, 51st State, The Castles of Burgundy: The Card Game, Dice City, Sid Meier's Civilization: The Boardgame, Le Havre: The Inland Port, Tournay, Peloponnes, Masons, Palazzo, Antiquity, Olympos, Planet Steam, Hotel Tycoon, Big City, Tower of Babel, Merkator, Oasis, Suburbia Inc, 7 Wonders Duel: Pantheon, The Hanging Gardens, Age of Renaissance, Village Inn, ZhanGuo, Thurn and Taxis: Power and Glory, Rise of Empires, Urban Sprawl, 7 Wonders: Manneken Pis, Walnut Grove, Phoenicia, Catan Histories: Settlers of America – Trails to Rails, 51st State: Master Set, Historia, Toledo, Via Nebula, Industria, Brew Crafters, Struggle for Catan, Firenze, Saint Petersburg (second edition), Mare Nostrum: Empires, El Capitán, Raiders of the North Sea, Tiny Epic Western, Candamir: The First Settlers, Khronos, Wealth of Nations, The Great Zimbabwe, Diamonds Club, 7 Wonders: Catan, Eurorails, Patchistory, Deadwood, Polis: Fight for the Hegemony, The Princes of Machu Picchu, 20th Century, Mesopotamia, The City, Mundus Novus, Ticket to Ride Map Collection: Volume 4 – Nederland, The Manhattan Project: Energy Empire, The Golden Ages, Pantheon, City of Iron, Rheinländer, Capitol, Progress: Evolution of Technology, Iron Dragon, Assyria, OddVille, First Class, The Ancient World, The Golden City, Auf Achse, Inca Empire, Neuland, Constantinopolis, Edo, The Colonists, La Strada,\n",
      "\n",
      "Cluster 8 words:[u'adventure', u'character', u'investigator', u'world', u'horror', u'ancient', u'monster', u'dragon', u'quest', u'hero']\n",
      "\n",
      "\n",
      "Cluster 8 titles: Arkham Horror, Coup, Robinson Crusoe: Adventures on the Cursed Island, Eldritch Horror, Elder Sign, The Lord of the Rings: The Card Game, Lord of the Rings, Mr. Jack, Mice and Mystics, Mansions of Madness, Pathfinder Adventure Card Game: Rise of the Runelords – Base Set, Talisman (Revised 4th Edition), Tales of the Arabian Nights, HeroQuest, Fury of Dracula (second edition), Legends of Andor, Small World Underground, Runebound (Second Edition), Carcassonne: The Princess & the Dragon, Runewars, Mansions of Madness: Second Edition, Shadow Hunters, Mascarade, Lord of the Rings: The Confrontation, Arkham Horror: Dunwich Horror Expansion, Arkham Horror: The Card Game, Small World: Cursed!, Killer Bunnies and the Quest for the Magic Carrot, Deception: Murder in Hong Kong, Lord of the Rings: The Confrontation, World of Warcraft: The Boardgame, Talisman, Dungeons & Dragons: The Legend of Drizzt Board Game, Gloomhaven, Titan, Arkham Horror: The King in Yellow Expansion, Middle-Earth Quest, Clank!: A Deck-Building Adventure, Eldritch Horror: Forsaken Lore, Arkham Horror: Curse of the Dark Pharaoh Expansion, Eclipse: Rise of the Ancients, Ashes: Rise of the Phoenixborn, Arkham Horror: Innsmouth Horror Expansion, Fortune and Glory: The Cliffhanger Game, Risk: The Lord of the Rings Trilogy Edition, Pandemic: Reign of Cthulhu, Tragedy Looper, Arkham Horror: Kingsport Horror Expansion, Dragonheart, Lord of the Rings: Friends & Foes, Castle Panic: The Wizard's Tower, Elder Sign: Unseen Forces, The Big Book of Madness, Shadows over Camelot: Merlin's Company, Arkham Horror: The Black Goat of the Woods Expansion, City of Horror, Relic, BattleCON: Devastation of Indines, Age of Conan: The Strategy Board Game, Shadows of Brimstone: City of the Ancients, Descent: The Road to Legend, HeroClix, Fist of Dragonstones, Return of the Heroes, Chaos in the Old World: The Horned Rat Expansion, Talisman (Revised 4th Edition): The Reaper Expansion, Eldritch Horror: Mountains of Madness, T.I.M.E Stories: A Prophecy of Dragons, Runebound (Third Edition), Arkham Horror: The Lurker at the Threshold Expansion, Prophecy, Magic Realm, World of Warcraft: The Adventure Game, Tiny Epic Defenders, Pathfinder Adventure Card Game: Skull & Shackles – Base Set, Witch of Salem, Middle-Earth, Pathfinder Adventure Card Game: Rise of the Runelords – Character Add-On Deck, Lord of the Rings: Sauron, Runebound (First Edition), Coup: Rebellion G54, Eldritch Horror: Strange Remnants, Elder Sign: Gates of Arkham, Shadows of Brimstone: Swamps of Death, Talisman (third edition), Sentinels of the Multiverse: Infernal Relics, The Witcher Adventure Game, Dominion: Adventures, Three-Dragon Ante, Vast: The Crystal Caverns, The Lord of the Rings: The Card Game – The Hunt for Gollum, The Hobbit, The Lord of the Rings Trading Card Game,\n",
      "\n",
      "Cluster 9 words:[u'animal', u'big', u'tile', u'specie', u'building', u'emperor', u'space', u'place', u'type', u'hand']\n",
      "\n",
      "\n",
      "Cluster 9 titles: Takenoko, Dominant Species, Zooloretto, Agricola: All Creatures Big and Small, Agricola: Farmers of the Moor, Animal Upon Animal, Hacienda, La Isla, Fauna, Frank's Zoo, You're Bluffing!, Wildlife Safari, Aquaretto, Tales & Games: The Hare & the Tortoise, Beasty Bar, Kanagawa, Agricola: All Creatures Big and Small – More Buildings Big and Small, Takenoko: Chibis, Evolution: The Origin of Species, Zooloretto: The Dice Game, Sylvion, Ark, Snorta!,\n",
      "\n",
      "Cluster 10 words:[u'ship', u'good', u'pirate', u'captain', u'merchant', u'trade', u'space', u'island', u'action', u'round']\n",
      "\n",
      "\n",
      "Cluster 10 titles: Puerto Rico, Galaxy Trucker, Le Havre, San Juan, Jaipur, Sheriff of Nottingham, Istanbul, Space Alert, Dominion: Seaside, Jamaica, Merchants & Marauders, Goa, Friday, Libertalia, Jambo, Pirate's Cove, Cuba, Firefly: The Game, Cartagena, Navegador, Battleship, Macao, Genoa, Port Royal, Loot, Hansa, Manila, Starfarers of Catan, Quantum, Starship Catan, Vasco da Gama, Container, Puerto Rico: Limited Anniversary Edition, Mississippi Queen, Xia: Legends of a Drift System, Santiago de Cuba, Francis Drake, Meuterer, Black Fleet, Shipyard, Merchant of Venus (second edition), Hamburgum, Oh My Goods!, Star Trek: Fleet Captains, Indonesia, Around the World in 80 Days, Fire & Axe: A Viking Saga, Oltre Mare, Pirates of the Spanish Main, Panamax, San Juan (second edition), Pack & Stack, Space Cadets: Dice Duel, Merchant of Venus, Madeira, Cargo Noir, Traders of Osaka, Ys, Galaxy Trucker: Anniversary Edition, Gravwell: Escape from the 9th Dimension, Serenissima (first edition), Sail to India, Pirate Fluxx, Mag·Blast (Third Edition), Wooden Ships & Iron Men, Sobek, The Great Heartland Hauling Co., Timbuktu, Rum & Pirates, Space Dealer, Medici vs Strozzi, Buccaneer, Perry Rhodan: The Cosmic League, Bombay, Castaways, Catan: Junior, Impulse, Samarkand: Routes to Riches, Caribbean, Before the Wind, Galactic Emperor, Dead Men Tell No Tales, Walk the Plank!, SeaFall, Pizarro & Co., Blackbeard,\n",
      "\n"
     ]
    }
   ],
   "source": [
    "from __future__ import print_function\n",
    "\n",
    "print(\"Top terms per cluster:\")\n",
    "print()\n",
    "#sort cluster centers by proximity to centroid\n",
    "order_centroids = km.cluster_centers_.argsort()[:, ::-1] \n",
    "names = tfidf2.get_feature_names()\n",
    "\n",
    "for i in range(num_clusters):\n",
    "    print(\"Cluster %d words:\" % i, end='')\n",
    "    print([names[j] for j in order_centroids[i, :10]])\n",
    "\n",
    "    print() #add whitespace\n",
    "    print() #add whitespace\n",
    "    \n",
    "    \n",
    "    print(\"Cluster %d titles:\" % i, end='')\n",
    "    for title in frame.ix[i]['title'].values.tolist():\n",
    "        print(' %s,' % title, end='')\n",
    "    print() #add whitespace\n",
    "    print() #add whitespace\n"
   ]
  },
  {
   "cell_type": "markdown",
   "metadata": {},
   "source": [
    "## Try to find the optimum number of clusters"
   ]
  },
  {
   "cell_type": "code",
   "execution_count": 136,
   "metadata": {
    "collapsed": false
   },
   "outputs": [],
   "source": [
    "from sklearn import metrics\n",
    "from sklearn.metrics import pairwise_distances\n",
    "from sklearn.metrics import silhouette_score\n",
    "from sklearn.preprocessing import scale\n",
    "\n",
    "def get_cluster_centers(X, labels, k_num):\n",
    "    CC_list = []\n",
    "    for k in range(k_num):\n",
    "        # get the mean coordinates of each cluster\n",
    "        CC_list.append(np.mean(X[labels == k], axis = 0))\n",
    "    return CC_list\n",
    "\n",
    "# for each cluster substract the mean from each data point to get the error\n",
    "# then get the magnitude of each error, square it, and sum it\n",
    "def get_SSE(X, labels):\n",
    "    k_num = len(np.unique(labels))\n",
    "    CC_list = get_cluster_centers(X, labels, k_num)\n",
    "    CSEs = []\n",
    "    for k in range(k_num):\n",
    "        # for each cluster of k we get the coordinates of how far off each point is to the cluster\n",
    "        error_cords = X[labels == k] - CC_list[k]\n",
    "        # square the coordinates and sum to get the magnitude squared\n",
    "        error_cords_sq = error_cords ** 2\n",
    "        error_mag_sq = np.sum(error_cords_sq, axis = 1)\n",
    "        # since we already have the magnitude of the error squared we can just take the sum for the cluster\n",
    "        CSE = np.sum(error_mag_sq)\n",
    "        CSEs.append(CSE)\n",
    "    # sum each cluster's sum of squared errors\n",
    "    return sum(CSEs)"
   ]
  },
  {
   "cell_type": "code",
   "execution_count": 138,
   "metadata": {
    "collapsed": false
   },
   "outputs": [],
   "source": [
    "SSEs = []\n",
    "Sil_coefs = []\n",
    "Inertia = []\n",
    "for k in range(2,30):\n",
    "    km = KMeans(n_clusters=k, random_state=1)\n",
    "    km.fit(X_tfidf2)\n",
    "    labels = km.labels_\n",
    "    Sil_coefs.append(metrics.silhouette_score(X_tfidf2, labels, metric='euclidean'))\n",
    "    # SSEs.append(get_SSE(X_digits, labels)) # The SSE is just inertia, we\n",
    "    SSEs.append(km.inertia_)            # could have just said km.inertia_"
   ]
  },
  {
   "cell_type": "code",
   "execution_count": 139,
   "metadata": {
    "collapsed": false
   },
   "outputs": [
    {
     "data": {
      "image/png": "[encoded data removed]",
      "text/plain": [
       "<matplotlib.figure.Figure at 0x136290090>"
      ]
     },
     "metadata": {},
     "output_type": "display_data"
    }
   ],
   "source": [
    "fig, (ax1, ax2) = plt.subplots(1,2, figsize=(15,5), sharex=True)\n",
    "k_clusters = range(2,30)\n",
    "ax1.plot(k_clusters, Sil_coefs)\n",
    "ax1.set_xlabel('number of clusters')\n",
    "ax1.set_ylabel('silhouette coefficient')\n",
    "\n",
    "# plot here on ax2\n",
    "ax2.plot(k_clusters, SSEs)\n",
    "ax2.set_xlabel('number of clusters')\n",
    "ax2.set_ylabel('SSE');"
   ]
  },
  {
   "cell_type": "markdown",
   "metadata": {},
   "source": [
    "Try Lots of Clusters....."
   ]
  },
  {
   "cell_type": "code",
   "execution_count": 110,
   "metadata": {
    "collapsed": false
   },
   "outputs": [
    {
     "data": {
      "text/plain": [
       "<function print>"
      ]
     },
     "execution_count": 110,
     "metadata": {},
     "output_type": "execute_result"
    }
   ],
   "source": [
    "from sklearn.metrics.pairwise import cosine_similarity\n",
    "dist = 1 - cosine_similarity(tfidf_matrix)\n",
    "print\n",
    "print"
   ]
  },
  {
   "cell_type": "code",
   "execution_count": null,
   "metadata": {
    "collapsed": true
   },
   "outputs": [],
   "source": []
  }
 ],
 "metadata": {
  "kernelspec": {
   "display_name": "Python 2",
   "language": "python",
   "name": "python2"
  },
  "language_info": {
   "codemirror_mode": {
    "name": "ipython",
    "version": 2
   },
   "file_extension": ".py",
   "mimetype": "text/x-python",
   "name": "python",
   "nbconvert_exporter": "python",
   "pygments_lexer": "ipython2",
   "version": "2.7.13"
  }
 },
 "nbformat": 4,
 "nbformat_minor": 2
}
